{
 "cells": [
  {
   "cell_type": "code",
   "execution_count": 1,
   "metadata": {
    "_cell_guid": "b1076dfc-b9ad-4769-8c92-a6c4dae69d19",
    "_uuid": "8f2839f25d086af736a60e9eeb907d3b93b6e0e5"
   },
   "outputs": [
    {
     "name": "stdout",
     "output_type": "stream",
     "text": [
      "/kaggle/input/data-science-bowl-2019/test.csv\n",
      "/kaggle/input/data-science-bowl-2019/specs.csv\n",
      "/kaggle/input/data-science-bowl-2019/train.csv\n",
      "/kaggle/input/data-science-bowl-2019/train_labels.csv\n",
      "/kaggle/input/data-science-bowl-2019/sample_submission.csv\n"
     ]
    }
   ],
   "source": [
    "# This Python 3 environment comes with many helpful analytics libraries installed\n",
    "# It is defined by the kaggle/python docker image: https://github.com/kaggle/docker-python\n",
    "# For example, here's several helpful packages to load in \n",
    "\n",
    "import numpy as np # linear algebra\n",
    "import pandas as pd # data processing, CSV file I/O (e.g. pd.read_csv)\n",
    "\n",
    "# Input data files are available in the \"../input/\" directory.\n",
    "# For example, running this (by clicking run or pressing Shift+Enter) will list all files under the input directory\n",
    "\n",
    "import os\n",
    "for dirname, _, filenames in os.walk('/kaggle/input'):\n",
    "    for filename in filenames:\n",
    "        print(os.path.join(dirname, filename))\n",
    "\n",
    "# Any results you write to the current directory are saved as output."
   ]
  },
  {
   "cell_type": "code",
   "execution_count": 2,
   "metadata": {
    "_cell_guid": "79c7e3d0-c299-4dcb-8224-4455121ee9b0",
    "_uuid": "d629ff2d2480ee46fbb7e2d37f6b5fab8052498a"
   },
   "outputs": [],
   "source": [
    "import IPython\n",
    "\n",
    "def display(*dfs):\n",
    "    for df in dfs:\n",
    "        IPython.display.display(df)\n"
   ]
  },
  {
   "cell_type": "code",
   "execution_count": 3,
   "metadata": {},
   "outputs": [],
   "source": [
    "## Function to reduce the DF size\n",
    "def reduce_mem_usage(df, verbose=True):\n",
    "    numerics = ['int16', 'int32', 'int64', 'float16', 'float32', 'float64']\n",
    "    start_mem = df.memory_usage().sum() / 1024**2    \n",
    "    for col in df.columns:\n",
    "        col_type = df[col].dtypes\n",
    "        if col_type in numerics:\n",
    "            c_min = df[col].min()\n",
    "            c_max = df[col].max()\n",
    "            if str(col_type)[:3] == 'int':\n",
    "                if c_min > np.iinfo(np.int8).min and c_max < np.iinfo(np.int8).max:\n",
    "                    df[col] = df[col].astype(np.int8)\n",
    "                elif c_min > np.iinfo(np.int16).min and c_max < np.iinfo(np.int16).max:\n",
    "                    df[col] = df[col].astype(np.int16)\n",
    "                elif c_min > np.iinfo(np.int32).min and c_max < np.iinfo(np.int32).max:\n",
    "                    df[col] = df[col].astype(np.int32)\n",
    "                elif c_min > np.iinfo(np.int64).min and c_max < np.iinfo(np.int64).max:\n",
    "                    df[col] = df[col].astype(np.int64)  \n",
    "            else:\n",
    "                if c_min > np.finfo(np.float16).min and c_max < np.finfo(np.float16).max:\n",
    "                    df[col] = df[col].astype(np.float16)\n",
    "                elif c_min > np.finfo(np.float32).min and c_max < np.finfo(np.float32).max:\n",
    "                    df[col] = df[col].astype(np.float32)\n",
    "                else:\n",
    "                    df[col] = df[col].astype(np.float64)    \n",
    "    end_mem = df.memory_usage().sum() / 1024**2\n",
    "    if verbose: print('Mem. usage decreased to {:5.2f} Mb ({:.1f}% reduction)'.format(end_mem, 100 * (start_mem - end_mem) / start_mem))\n",
    "    return df"
   ]
  },
  {
   "cell_type": "code",
   "execution_count": 4,
   "metadata": {},
   "outputs": [
    {
     "name": "stdout",
     "output_type": "stream",
     "text": [
      "CPU times: user 1min 15s, sys: 11.5 s, total: 1min 27s\n",
      "Wall time: 1min 27s\n"
     ]
    }
   ],
   "source": [
    "%time df = pd.read_csv('/kaggle/input/data-science-bowl-2019/train.csv', engine='c')\n",
    "labels = pd.read_csv('/kaggle/input/data-science-bowl-2019/train_labels.csv')"
   ]
  },
  {
   "cell_type": "code",
   "execution_count": 5,
   "metadata": {},
   "outputs": [],
   "source": [
    "df_test = pd.read_csv('/kaggle/input/data-science-bowl-2019/test.csv')"
   ]
  },
  {
   "cell_type": "code",
   "execution_count": 6,
   "metadata": {},
   "outputs": [
    {
     "name": "stdout",
     "output_type": "stream",
     "text": [
      "Mem. usage decreased to 778.73 Mb (18.2% reduction)\n",
      "Mem. usage decreased to  0.49 Mb (48.2% reduction)\n",
      "Mem. usage decreased to 79.40 Mb (18.2% reduction)\n"
     ]
    }
   ],
   "source": [
    "df = reduce_mem_usage(df)\n",
    "labels = reduce_mem_usage(labels)\n",
    "df_test = reduce_mem_usage(df_test)"
   ]
  },
  {
   "cell_type": "markdown",
   "metadata": {},
   "source": [
    "# Number of unique users"
   ]
  },
  {
   "cell_type": "code",
   "execution_count": 7,
   "metadata": {},
   "outputs": [
    {
     "name": "stdout",
     "output_type": "stream",
     "text": [
      "# of unique ids in train: 17000\n",
      "# of unique ids in test: 1000\n",
      "# of unique ids from test set in train set: 0\n"
     ]
    }
   ],
   "source": [
    "train_id = df.installation_id.unique()\n",
    "test_id = df_test.installation_id.unique()\n",
    "\n",
    "print('# of unique ids in train:', train_id.shape[0])\n",
    "print('# of unique ids in test:', test_id.shape[0])\n",
    "print('# of unique ids from test set in train set:', np.isin(test_id, train_id).sum())"
   ]
  },
  {
   "cell_type": "markdown",
   "metadata": {},
   "source": [
    "# Timestamp"
   ]
  },
  {
   "cell_type": "code",
   "execution_count": 8,
   "metadata": {},
   "outputs": [],
   "source": [
    "df['timestamp'] = pd.to_datetime(df['timestamp'])\n",
    "df_test['timestamp'] = pd.to_datetime(df_test['timestamp'])"
   ]
  },
  {
   "cell_type": "code",
   "execution_count": 9,
   "metadata": {},
   "outputs": [
    {
     "data": {
      "text/plain": [
       "(count                             11341042\n",
       " unique                            10777308\n",
       " top       2019-08-01 20:08:13.052000+00:00\n",
       " freq                                    11\n",
       " first     2019-07-23 02:12:17.279000+00:00\n",
       " last      2019-10-22 17:41:45.983000+00:00\n",
       " Name: timestamp, dtype: object, count                              1156414\n",
       " unique                             1103166\n",
       " top       2019-09-13 18:38:38.848000+00:00\n",
       " freq                                     9\n",
       " first     2019-07-24 00:04:25.361000+00:00\n",
       " last      2019-10-14 21:00:34.858000+00:00\n",
       " Name: timestamp, dtype: object)"
      ]
     },
     "execution_count": 9,
     "metadata": {},
     "output_type": "execute_result"
    }
   ],
   "source": [
    "df.timestamp.describe(), df_test.timestamp.describe()"
   ]
  },
  {
   "cell_type": "markdown",
   "metadata": {},
   "source": [
    "The same time period for train and test"
   ]
  },
  {
   "cell_type": "markdown",
   "metadata": {},
   "source": [
    "# Number of user with attempts\n",
    "How many installation_id in test set have assessment and assessment with finished code?"
   ]
  },
  {
   "cell_type": "code",
   "execution_count": 10,
   "metadata": {},
   "outputs": [],
   "source": [
    "def event_finished(df):\n",
    "    df_wt_BM = df[(df.event_code == 4100) & (df.title.str.find('Bird Measurer')==-1)]\n",
    "    df_BM = df[(df.event_code == 4110) & (df.title.str.find('Bird Measurer')!=-1)]\n",
    "    return df_wt_BM.append(df_BM)"
   ]
  },
  {
   "cell_type": "code",
   "execution_count": 11,
   "metadata": {},
   "outputs": [],
   "source": [
    "# for test\n",
    "assessment = df_test[df_test.type=='Assessment']\n",
    "assessment_finished = event_finished(assessment)"
   ]
  },
  {
   "cell_type": "code",
   "execution_count": 12,
   "metadata": {},
   "outputs": [
    {
     "name": "stdout",
     "output_type": "stream",
     "text": [
      "# ids in TEST\t # ids in assessment\t # ids in finished assessments\n",
      "(1000,) \t (1000,) \t\t (557,)\n"
     ]
    }
   ],
   "source": [
    "print('# ids in TEST\\t # ids in assessment\\t # ids in finished assessments')\n",
    "print(test_id.shape,'\\t', assessment.installation_id.unique().shape, '\\t\\t',\n",
    "      assessment_finished.installation_id.unique().shape)"
   ]
  },
  {
   "cell_type": "code",
   "execution_count": 13,
   "metadata": {},
   "outputs": [],
   "source": [
    "# for train\n",
    "assessment = df[df.type=='Assessment']\n",
    "assessment_finished = event_finished(assessment)"
   ]
  },
  {
   "cell_type": "code",
   "execution_count": 14,
   "metadata": {},
   "outputs": [
    {
     "name": "stdout",
     "output_type": "stream",
     "text": [
      "# ids in TRAIN\t # ids in assessment\t # ids in finished assessments\n",
      "(17000,) \t (4242,) \t\t (3614,)\n"
     ]
    }
   ],
   "source": [
    "print('# ids in TRAIN\\t # ids in assessment\\t # ids in finished assessments')\n",
    "print(train_id.shape,'\\t', assessment.installation_id.unique().shape, '\\t\\t',\n",
    "      assessment_finished.installation_id.unique().shape)"
   ]
  },
  {
   "cell_type": "markdown",
   "metadata": {},
   "source": [
    "For test set - each id took assessments, whereas a lot of ids in train set never took assesments (only 25% did it) and  only around 21% of ids finished assessments (correct or not). We can train model on these 21% ids."
   ]
  },
  {
   "cell_type": "code",
   "execution_count": 15,
   "metadata": {},
   "outputs": [],
   "source": [
    "df_ini = df.copy()"
   ]
  },
  {
   "cell_type": "markdown",
   "metadata": {},
   "source": [
    "# Correct attempt counter\n",
    "Let's look on test set to see, how many correct attempts already have user up to moment last attempt. \n",
    "Why? Logically, one can  assume, that previous attempts (as correct well as not) ma improve user's knoledge and increase chance to pass attemp. But we should undestand that such kind of indormation should be in test set. Let's check it."
   ]
  },
  {
   "cell_type": "code",
   "execution_count": 16,
   "metadata": {},
   "outputs": [],
   "source": [
    "# indicate assessment finish; don't care correct ot not\n",
    "def check_attempt(df):\n",
    "    df['attempt'] = ((df.type == 'Assessment') &\n",
    "                       (((df.event_code == 4100) & (df.title != 'Bird Measurer (Assessment)')) |\n",
    "                        ((df.event_code == 4110)&(df.title == 'Bird Measurer (Assessment)')) )\n",
    "                   ).astype('int8')\n",
    "\n",
    "# indicate that attempt was correct\n",
    "def check_correct(df):\n",
    "    df['correct'] = 0\n",
    "    df.loc[df.attempt == 1, 'correct'] = df[df.attempt == 1].event_data.str.contains('\"correct\":true').astype('int8')"
   ]
  },
  {
   "cell_type": "code",
   "execution_count": 17,
   "metadata": {},
   "outputs": [],
   "source": [
    "df = df_ini.copy()\n",
    "\n",
    "# we will look only on users which have info about attempts\n",
    "df = df[df.installation_id.isin(labels.installation_id)]\n"
   ]
  },
  {
   "cell_type": "code",
   "execution_count": 18,
   "metadata": {},
   "outputs": [],
   "source": [
    "check_attempt(df_test)\n",
    "check_correct(df_test)\n",
    "\n",
    "check_attempt(df)\n",
    "check_correct(df)"
   ]
  },
  {
   "cell_type": "code",
   "execution_count": 19,
   "metadata": {},
   "outputs": [],
   "source": [
    "test_group = df_test.groupby('installation_id')\n",
    "train_group = df.groupby('installation_id')"
   ]
  },
  {
   "cell_type": "code",
   "execution_count": 20,
   "metadata": {},
   "outputs": [],
   "source": [
    "import matplotlib.pyplot as plt"
   ]
  },
  {
   "cell_type": "code",
   "execution_count": 21,
   "metadata": {},
   "outputs": [
    {
     "data": {
      "image/png": "[encoded data removed]",
      "text/plain": [
       "<Figure size 720x576 with 4 Axes>"
      ]
     },
     "metadata": {
      "needs_background": "light"
     },
     "output_type": "display_data"
    }
   ],
   "source": [
    "plt.figure(figsize=(10,8))\n",
    "plt.subplot(2,2,1)\n",
    "ax = test_group.correct.sum().plot.hist(bins=test_group.correct.sum().max(), color='c');\n",
    "\n",
    "plt.subplot(2,2,2)\n",
    "ax = train_group.correct.sum().plot.hist(bins=train_group.correct.sum().max())\n",
    "\n",
    "\n",
    "plt.subplot(2,2,3)\n",
    "ax = test_group.correct.sum().plot.hist(bins=test_group.correct.sum().max(), label='test', color='c');\n",
    "ax.set_xlim(0,10)\n",
    "plt.legend();\n",
    "\n",
    "plt.subplot(2,2,4)\n",
    "ax = train_group.correct.sum().plot.hist(bins=train_group.correct.sum().max(), label='train')\n",
    "ax.set_xlim(0,10);\n",
    "plt.legend();"
   ]
  },
  {
   "cell_type": "markdown",
   "metadata": {},
   "source": [
    "Test set have comlicated installation_id's history with already passed assessments.\n",
    "\n",
    "**Note: ** in train set info for each intsllation_id should include also info about previous assessments"
   ]
  },
  {
   "cell_type": "markdown",
   "metadata": {},
   "source": [
    "# Check unique titles in different worlds"
   ]
  },
  {
   "cell_type": "code",
   "execution_count": 22,
   "metadata": {},
   "outputs": [
    {
     "name": "stdout",
     "output_type": "stream",
     "text": [
      "CRYSTALCAVES ['Cart Balancer (Assessment)' 'Chest Sorter (Assessment)']\n",
      "MAGMAPEAK ['Cauldron Filler (Assessment)']\n",
      "TREETOPCITY ['Mushroom Sorter (Assessment)' 'Bird Measurer (Assessment)']\n"
     ]
    }
   ],
   "source": [
    "temp = df_test[df_test.type=='Assessment'].groupby('world').title.unique()\n",
    "\n",
    "for i in temp.index:\n",
    "    print(i, temp[i])"
   ]
  },
  {
   "cell_type": "markdown",
   "metadata": {},
   "source": [
    "# Check final assessment repeating\n",
    "User can alredy start with assessment but not finish it or finish it with wrong answer, etc"
   ]
  },
  {
   "cell_type": "code",
   "execution_count": 23,
   "metadata": {},
   "outputs": [],
   "source": [
    "# for each installation_id, count repeats by each game_session\n",
    "def count_last_assessment_repeat(df_test):\n",
    "    temp = df_test[df_test.type == 'Assessment']\n",
    "    last_attempts = temp.groupby('installation_id').title.apply(lambda x: x.iloc[-1])\n",
    "    # last_attempts\n",
    "\n",
    "    results = []\n",
    "    for i, session in temp.groupby(['installation_id'], sort=False):\n",
    "        res = {}\n",
    "        last_title = session.title.iloc[-1]\n",
    "        t = session.iloc[:-1][session.title == last_title].groupby('game_session').agg({'title': lambda x: x.iloc[0],\n",
    "                                                                                       'attempt': lambda x: 1 if x.sum() >=1 else 0,\n",
    "                                                                                       'correct': 'sum'})\n",
    "        if  (t.correct >1).any():\n",
    "            display(t)\n",
    "            input()\n",
    "        res['installation_id'] = i\n",
    "        res['last_title'] = last_title\n",
    "        res['n_users_with_repeat'] = 1 if t.shape[0]> 0 else 0\n",
    "        res['n_repeat'] = t.shape[0] # all repeats\n",
    "        res['n_attempt'] = t.attempt.sum() # sum game_sessions with attemption\n",
    "        res['n_correct'] = t.correct.sum() \n",
    "\n",
    "        results.append(res)\n",
    "\n",
    "    return pd.DataFrame(results)   "
   ]
  },
  {
   "cell_type": "code",
   "execution_count": 24,
   "metadata": {},
   "outputs": [
    {
     "name": "stderr",
     "output_type": "stream",
     "text": [
      "/opt/conda/lib/python3.6/site-packages/ipykernel_launcher.py:11: UserWarning: Boolean Series key will be reindexed to match DataFrame index.\n",
      "  # This is added back by InteractiveShellApp.init_path()\n"
     ]
    },
    {
     "data": {
      "text/plain": [
       "n_users_with_repeat    271.0\n",
       "n_repeat               489.0\n",
       "n_attempt              426.0\n",
       "n_correct              339.0\n",
       "dtype: float64"
      ]
     },
     "execution_count": 24,
     "metadata": {},
     "output_type": "execute_result"
    },
    {
     "data": {
      "image/png": "[encoded data removed]",
      "text/plain": [
       "<Figure size 432x288 with 1 Axes>"
      ]
     },
     "metadata": {
      "needs_background": "light"
     },
     "output_type": "display_data"
    }
   ],
   "source": [
    "results = count_last_assessment_repeat(df_test)\n",
    "results.drop(['installation_id', 'last_title'], axis=1).sum().plot.bar();\n",
    "results.drop(['installation_id', 'last_title'], axis=1).sum()"
   ]
  },
  {
   "cell_type": "markdown",
   "metadata": {},
   "source": [
    "Total: \n",
    "* 271 installation_id (from 1000)  have already started/finished/carrected pass the last assemption.\n",
    "* difference between n_repeat and n_attempt tell us that there were some starting assemptions but they was not finished"
   ]
  },
  {
   "cell_type": "markdown",
   "metadata": {},
   "source": [
    "Check train set too"
   ]
  },
  {
   "cell_type": "code",
   "execution_count": 25,
   "metadata": {},
   "outputs": [
    {
     "name": "stderr",
     "output_type": "stream",
     "text": [
      "/opt/conda/lib/python3.6/site-packages/ipykernel_launcher.py:11: UserWarning: Boolean Series key will be reindexed to match DataFrame index.\n",
      "  # This is added back by InteractiveShellApp.init_path()\n"
     ]
    },
    {
     "data": {
      "text/plain": [
       "n_users_with_repeat    3613.0\n",
       "n_repeat               7079.0\n",
       "n_attempt              6239.0\n",
       "n_correct              4615.0\n",
       "dtype: float64"
      ]
     },
     "execution_count": 25,
     "metadata": {},
     "output_type": "execute_result"
    },
    {
     "data": {
      "image/png": "[encoded data removed]",
      "text/plain": [
       "<Figure size 432x288 with 1 Axes>"
      ]
     },
     "metadata": {
      "needs_background": "light"
     },
     "output_type": "display_data"
    }
   ],
   "source": [
    "results = count_last_assessment_repeat(df)\n",
    "results.drop(['installation_id', 'last_title'], axis=1).sum().plot.bar();\n",
    "results.drop(['installation_id', 'last_title'], axis=1).sum()"
   ]
  },
  {
   "cell_type": "markdown",
   "metadata": {},
   "source": [
    "Look at one user closer"
   ]
  },
  {
   "cell_type": "code",
   "execution_count": 26,
   "metadata": {},
   "outputs": [
    {
     "data": {
      "text/plain": [
       "event_id                                                    7ad3efc6\n",
       "game_session                                        1fef5d54cb4b775a\n",
       "timestamp                           2019-10-09 20:23:16.209000+00:00\n",
       "event_data         {\"version\":\"1.0\",\"event_count\":1,\"game_time\":0...\n",
       "installation_id                                             01242218\n",
       "event_count                                                        1\n",
       "event_code                                                      2000\n",
       "game_time                                                          0\n",
       "title                                     Cart Balancer (Assessment)\n",
       "type                                                      Assessment\n",
       "world                                                   CRYSTALCAVES\n",
       "attempt                                                            0\n",
       "correct                                                            0\n",
       "Name: 3586, dtype: object"
      ]
     },
     "execution_count": 26,
     "metadata": {},
     "output_type": "execute_result"
    }
   ],
   "source": [
    "user_id = '01242218'\n",
    "\n",
    "user = df_test[df_test.installation_id == user_id].copy()\n",
    "\n",
    "last_attempt = user[user.type == 'Assessment'].iloc[-1]\n",
    "last_attempt"
   ]
  },
  {
   "cell_type": "code",
   "execution_count": 27,
   "metadata": {},
   "outputs": [
    {
     "data": {
      "text/html": [
       "<div>\n",
       "<style scoped>\n",
       "    .dataframe tbody tr th:only-of-type {\n",
       "        vertical-align: middle;\n",
       "    }\n",
       "\n",
       "    .dataframe tbody tr th {\n",
       "        vertical-align: top;\n",
       "    }\n",
       "\n",
       "    .dataframe thead th {\n",
       "        text-align: right;\n",
       "    }\n",
       "</style>\n",
       "<table border=\"1\" class=\"dataframe\">\n",
       "  <thead>\n",
       "    <tr style=\"text-align: right;\">\n",
       "      <th></th>\n",
       "      <th>event_id</th>\n",
       "      <th>game_session</th>\n",
       "      <th>timestamp</th>\n",
       "      <th>event_data</th>\n",
       "      <th>installation_id</th>\n",
       "      <th>event_count</th>\n",
       "      <th>event_code</th>\n",
       "      <th>game_time</th>\n",
       "      <th>title</th>\n",
       "      <th>type</th>\n",
       "      <th>world</th>\n",
       "      <th>attempt</th>\n",
       "      <th>correct</th>\n",
       "    </tr>\n",
       "  </thead>\n",
       "  <tbody>\n",
       "    <tr>\n",
       "      <th>1953</th>\n",
       "      <td>7ad3efc6</td>\n",
       "      <td>e8e62de939f916bc</td>\n",
       "      <td>2019-09-22 21:38:58.329000+00:00</td>\n",
       "      <td>{\"version\":\"1.0\",\"event_count\":1,\"game_time\":0...</td>\n",
       "      <td>01242218</td>\n",
       "      <td>1</td>\n",
       "      <td>2000</td>\n",
       "      <td>0</td>\n",
       "      <td>Cart Balancer (Assessment)</td>\n",
       "      <td>Assessment</td>\n",
       "      <td>CRYSTALCAVES</td>\n",
       "      <td>0</td>\n",
       "      <td>0</td>\n",
       "    </tr>\n",
       "    <tr>\n",
       "      <th>1954</th>\n",
       "      <td>65a38bf7</td>\n",
       "      <td>e8e62de939f916bc</td>\n",
       "      <td>2019-09-22 21:38:58.430000+00:00</td>\n",
       "      <td>{\"crystals\":[{\"id\":\"gem07\",\"weight\":6},{\"id\":\"...</td>\n",
       "      <td>01242218</td>\n",
       "      <td>2</td>\n",
       "      <td>2020</td>\n",
       "      <td>64</td>\n",
       "      <td>Cart Balancer (Assessment)</td>\n",
       "      <td>Assessment</td>\n",
       "      <td>CRYSTALCAVES</td>\n",
       "      <td>0</td>\n",
       "      <td>0</td>\n",
       "    </tr>\n",
       "    <tr>\n",
       "      <th>1955</th>\n",
       "      <td>795e4a37</td>\n",
       "      <td>e8e62de939f916bc</td>\n",
       "      <td>2019-09-22 21:38:58.437000+00:00</td>\n",
       "      <td>{\"description\":\"We've got to balance this scal...</td>\n",
       "      <td>01242218</td>\n",
       "      <td>3</td>\n",
       "      <td>3010</td>\n",
       "      <td>64</td>\n",
       "      <td>Cart Balancer (Assessment)</td>\n",
       "      <td>Assessment</td>\n",
       "      <td>CRYSTALCAVES</td>\n",
       "      <td>0</td>\n",
       "      <td>0</td>\n",
       "    </tr>\n",
       "    <tr>\n",
       "      <th>1956</th>\n",
       "      <td>5e109ec3</td>\n",
       "      <td>e8e62de939f916bc</td>\n",
       "      <td>2019-09-22 21:39:02.124000+00:00</td>\n",
       "      <td>{\"crystal_id\":\"gem08\",\"weight\":6,\"coordinates\"...</td>\n",
       "      <td>01242218</td>\n",
       "      <td>4</td>\n",
       "      <td>4030</td>\n",
       "      <td>3788</td>\n",
       "      <td>Cart Balancer (Assessment)</td>\n",
       "      <td>Assessment</td>\n",
       "      <td>CRYSTALCAVES</td>\n",
       "      <td>0</td>\n",
       "      <td>0</td>\n",
       "    </tr>\n",
       "    <tr>\n",
       "      <th>1957</th>\n",
       "      <td>5c2f29ca</td>\n",
       "      <td>e8e62de939f916bc</td>\n",
       "      <td>2019-09-22 21:39:03.164000+00:00</td>\n",
       "      <td>{\"crystal_id\":\"gem08\",\"weight\":6,\"coordinates\"...</td>\n",
       "      <td>01242218</td>\n",
       "      <td>5</td>\n",
       "      <td>4020</td>\n",
       "      <td>4854</td>\n",
       "      <td>Cart Balancer (Assessment)</td>\n",
       "      <td>Assessment</td>\n",
       "      <td>CRYSTALCAVES</td>\n",
       "      <td>0</td>\n",
       "      <td>0</td>\n",
       "    </tr>\n",
       "    <tr>\n",
       "      <th>1958</th>\n",
       "      <td>5e109ec3</td>\n",
       "      <td>e8e62de939f916bc</td>\n",
       "      <td>2019-09-22 21:39:04.084000+00:00</td>\n",
       "      <td>{\"crystal_id\":\"gem07\",\"weight\":6,\"coordinates\"...</td>\n",
       "      <td>01242218</td>\n",
       "      <td>6</td>\n",
       "      <td>4030</td>\n",
       "      <td>5754</td>\n",
       "      <td>Cart Balancer (Assessment)</td>\n",
       "      <td>Assessment</td>\n",
       "      <td>CRYSTALCAVES</td>\n",
       "      <td>0</td>\n",
       "      <td>0</td>\n",
       "    </tr>\n",
       "    <tr>\n",
       "      <th>1959</th>\n",
       "      <td>5c2f29ca</td>\n",
       "      <td>e8e62de939f916bc</td>\n",
       "      <td>2019-09-22 21:39:04.727000+00:00</td>\n",
       "      <td>{\"crystal_id\":\"gem07\",\"weight\":6,\"coordinates\"...</td>\n",
       "      <td>01242218</td>\n",
       "      <td>7</td>\n",
       "      <td>4020</td>\n",
       "      <td>6421</td>\n",
       "      <td>Cart Balancer (Assessment)</td>\n",
       "      <td>Assessment</td>\n",
       "      <td>CRYSTALCAVES</td>\n",
       "      <td>0</td>\n",
       "      <td>0</td>\n",
       "    </tr>\n",
       "    <tr>\n",
       "      <th>1960</th>\n",
       "      <td>828e68f9</td>\n",
       "      <td>e8e62de939f916bc</td>\n",
       "      <td>2019-09-22 21:39:05.454000+00:00</td>\n",
       "      <td>{\"description\":\"We've got to balance this scal...</td>\n",
       "      <td>01242218</td>\n",
       "      <td>8</td>\n",
       "      <td>3110</td>\n",
       "      <td>7154</td>\n",
       "      <td>Cart Balancer (Assessment)</td>\n",
       "      <td>Assessment</td>\n",
       "      <td>CRYSTALCAVES</td>\n",
       "      <td>0</td>\n",
       "      <td>0</td>\n",
       "    </tr>\n",
       "    <tr>\n",
       "      <th>1961</th>\n",
       "      <td>d122731b</td>\n",
       "      <td>e8e62de939f916bc</td>\n",
       "      <td>2019-09-22 21:39:06.838000+00:00</td>\n",
       "      <td>{\"correct\":true,\"left\":[{\"id\":\"gem07\",\"weight\"...</td>\n",
       "      <td>01242218</td>\n",
       "      <td>9</td>\n",
       "      <td>4100</td>\n",
       "      <td>8504</td>\n",
       "      <td>Cart Balancer (Assessment)</td>\n",
       "      <td>Assessment</td>\n",
       "      <td>CRYSTALCAVES</td>\n",
       "      <td>1</td>\n",
       "      <td>1</td>\n",
       "    </tr>\n",
       "    <tr>\n",
       "      <th>1962</th>\n",
       "      <td>a8876db3</td>\n",
       "      <td>e8e62de939f916bc</td>\n",
       "      <td>2019-09-22 21:39:06.848000+00:00</td>\n",
       "      <td>{\"description\":\"You did it! The weight is equa...</td>\n",
       "      <td>01242218</td>\n",
       "      <td>10</td>\n",
       "      <td>3021</td>\n",
       "      <td>8504</td>\n",
       "      <td>Cart Balancer (Assessment)</td>\n",
       "      <td>Assessment</td>\n",
       "      <td>CRYSTALCAVES</td>\n",
       "      <td>0</td>\n",
       "      <td>0</td>\n",
       "    </tr>\n",
       "    <tr>\n",
       "      <th>1963</th>\n",
       "      <td>ecaab346</td>\n",
       "      <td>e8e62de939f916bc</td>\n",
       "      <td>2019-09-22 21:39:14.142000+00:00</td>\n",
       "      <td>{\"description\":\"You did it! The weight is equa...</td>\n",
       "      <td>01242218</td>\n",
       "      <td>11</td>\n",
       "      <td>3121</td>\n",
       "      <td>15839</td>\n",
       "      <td>Cart Balancer (Assessment)</td>\n",
       "      <td>Assessment</td>\n",
       "      <td>CRYSTALCAVES</td>\n",
       "      <td>0</td>\n",
       "      <td>0</td>\n",
       "    </tr>\n",
       "    <tr>\n",
       "      <th>1964</th>\n",
       "      <td>b74258a0</td>\n",
       "      <td>e8e62de939f916bc</td>\n",
       "      <td>2019-09-22 21:39:14.145000+00:00</td>\n",
       "      <td>{\"duration\":15775,\"misses\":0,\"left\":[{\"id\":\"ge...</td>\n",
       "      <td>01242218</td>\n",
       "      <td>12</td>\n",
       "      <td>2030</td>\n",
       "      <td>15839</td>\n",
       "      <td>Cart Balancer (Assessment)</td>\n",
       "      <td>Assessment</td>\n",
       "      <td>CRYSTALCAVES</td>\n",
       "      <td>0</td>\n",
       "      <td>0</td>\n",
       "    </tr>\n",
       "    <tr>\n",
       "      <th>1965</th>\n",
       "      <td>b2e5b0f1</td>\n",
       "      <td>e8e62de939f916bc</td>\n",
       "      <td>2019-09-22 21:39:14.148000+00:00</td>\n",
       "      <td>{\"session_duration\":15839,\"event_count\":13,\"ga...</td>\n",
       "      <td>01242218</td>\n",
       "      <td>13</td>\n",
       "      <td>2010</td>\n",
       "      <td>15839</td>\n",
       "      <td>Cart Balancer (Assessment)</td>\n",
       "      <td>Assessment</td>\n",
       "      <td>CRYSTALCAVES</td>\n",
       "      <td>0</td>\n",
       "      <td>0</td>\n",
       "    </tr>\n",
       "    <tr>\n",
       "      <th>3586</th>\n",
       "      <td>7ad3efc6</td>\n",
       "      <td>1fef5d54cb4b775a</td>\n",
       "      <td>2019-10-09 20:23:16.209000+00:00</td>\n",
       "      <td>{\"version\":\"1.0\",\"event_count\":1,\"game_time\":0...</td>\n",
       "      <td>01242218</td>\n",
       "      <td>1</td>\n",
       "      <td>2000</td>\n",
       "      <td>0</td>\n",
       "      <td>Cart Balancer (Assessment)</td>\n",
       "      <td>Assessment</td>\n",
       "      <td>CRYSTALCAVES</td>\n",
       "      <td>0</td>\n",
       "      <td>0</td>\n",
       "    </tr>\n",
       "  </tbody>\n",
       "</table>\n",
       "</div>"
      ],
      "text/plain": [
       "      event_id      game_session                        timestamp  \\\n",
       "1953  7ad3efc6  e8e62de939f916bc 2019-09-22 21:38:58.329000+00:00   \n",
       "1954  65a38bf7  e8e62de939f916bc 2019-09-22 21:38:58.430000+00:00   \n",
       "1955  795e4a37  e8e62de939f916bc 2019-09-22 21:38:58.437000+00:00   \n",
       "1956  5e109ec3  e8e62de939f916bc 2019-09-22 21:39:02.124000+00:00   \n",
       "1957  5c2f29ca  e8e62de939f916bc 2019-09-22 21:39:03.164000+00:00   \n",
       "1958  5e109ec3  e8e62de939f916bc 2019-09-22 21:39:04.084000+00:00   \n",
       "1959  5c2f29ca  e8e62de939f916bc 2019-09-22 21:39:04.727000+00:00   \n",
       "1960  828e68f9  e8e62de939f916bc 2019-09-22 21:39:05.454000+00:00   \n",
       "1961  d122731b  e8e62de939f916bc 2019-09-22 21:39:06.838000+00:00   \n",
       "1962  a8876db3  e8e62de939f916bc 2019-09-22 21:39:06.848000+00:00   \n",
       "1963  ecaab346  e8e62de939f916bc 2019-09-22 21:39:14.142000+00:00   \n",
       "1964  b74258a0  e8e62de939f916bc 2019-09-22 21:39:14.145000+00:00   \n",
       "1965  b2e5b0f1  e8e62de939f916bc 2019-09-22 21:39:14.148000+00:00   \n",
       "3586  7ad3efc6  1fef5d54cb4b775a 2019-10-09 20:23:16.209000+00:00   \n",
       "\n",
       "                                             event_data installation_id  \\\n",
       "1953  {\"version\":\"1.0\",\"event_count\":1,\"game_time\":0...        01242218   \n",
       "1954  {\"crystals\":[{\"id\":\"gem07\",\"weight\":6},{\"id\":\"...        01242218   \n",
       "1955  {\"description\":\"We've got to balance this scal...        01242218   \n",
       "1956  {\"crystal_id\":\"gem08\",\"weight\":6,\"coordinates\"...        01242218   \n",
       "1957  {\"crystal_id\":\"gem08\",\"weight\":6,\"coordinates\"...        01242218   \n",
       "1958  {\"crystal_id\":\"gem07\",\"weight\":6,\"coordinates\"...        01242218   \n",
       "1959  {\"crystal_id\":\"gem07\",\"weight\":6,\"coordinates\"...        01242218   \n",
       "1960  {\"description\":\"We've got to balance this scal...        01242218   \n",
       "1961  {\"correct\":true,\"left\":[{\"id\":\"gem07\",\"weight\"...        01242218   \n",
       "1962  {\"description\":\"You did it! The weight is equa...        01242218   \n",
       "1963  {\"description\":\"You did it! The weight is equa...        01242218   \n",
       "1964  {\"duration\":15775,\"misses\":0,\"left\":[{\"id\":\"ge...        01242218   \n",
       "1965  {\"session_duration\":15839,\"event_count\":13,\"ga...        01242218   \n",
       "3586  {\"version\":\"1.0\",\"event_count\":1,\"game_time\":0...        01242218   \n",
       "\n",
       "      event_count  event_code  game_time                       title  \\\n",
       "1953            1        2000          0  Cart Balancer (Assessment)   \n",
       "1954            2        2020         64  Cart Balancer (Assessment)   \n",
       "1955            3        3010         64  Cart Balancer (Assessment)   \n",
       "1956            4        4030       3788  Cart Balancer (Assessment)   \n",
       "1957            5        4020       4854  Cart Balancer (Assessment)   \n",
       "1958            6        4030       5754  Cart Balancer (Assessment)   \n",
       "1959            7        4020       6421  Cart Balancer (Assessment)   \n",
       "1960            8        3110       7154  Cart Balancer (Assessment)   \n",
       "1961            9        4100       8504  Cart Balancer (Assessment)   \n",
       "1962           10        3021       8504  Cart Balancer (Assessment)   \n",
       "1963           11        3121      15839  Cart Balancer (Assessment)   \n",
       "1964           12        2030      15839  Cart Balancer (Assessment)   \n",
       "1965           13        2010      15839  Cart Balancer (Assessment)   \n",
       "3586            1        2000          0  Cart Balancer (Assessment)   \n",
       "\n",
       "            type         world  attempt  correct  \n",
       "1953  Assessment  CRYSTALCAVES        0        0  \n",
       "1954  Assessment  CRYSTALCAVES        0        0  \n",
       "1955  Assessment  CRYSTALCAVES        0        0  \n",
       "1956  Assessment  CRYSTALCAVES        0        0  \n",
       "1957  Assessment  CRYSTALCAVES        0        0  \n",
       "1958  Assessment  CRYSTALCAVES        0        0  \n",
       "1959  Assessment  CRYSTALCAVES        0        0  \n",
       "1960  Assessment  CRYSTALCAVES        0        0  \n",
       "1961  Assessment  CRYSTALCAVES        1        1  \n",
       "1962  Assessment  CRYSTALCAVES        0        0  \n",
       "1963  Assessment  CRYSTALCAVES        0        0  \n",
       "1964  Assessment  CRYSTALCAVES        0        0  \n",
       "1965  Assessment  CRYSTALCAVES        0        0  \n",
       "3586  Assessment  CRYSTALCAVES        0        0  "
      ]
     },
     "execution_count": 27,
     "metadata": {},
     "output_type": "execute_result"
    }
   ],
   "source": [
    "user[user.title == last_attempt.title]"
   ]
  },
  {
   "cell_type": "markdown",
   "metadata": {},
   "source": [
    "Let's look on data: we can see that \n",
    "* user start assessment (title and event_id are the same as the last one), \n",
    "* finished it (event_code=4100), \n",
    "* still play in this assessment (the same game_session)\n",
    "\n",
    "* and last one, we see out aseessment to predict\n",
    "\n",
    "\n",
    "So, information that user already passed/tried to pass/started last assessment can influence on result\n",
    "\n",
    "**Note:** store info about last_assessment type"
   ]
  },
  {
   "cell_type": "code",
   "execution_count": null,
   "metadata": {},
   "outputs": [],
   "source": []
  }
 ],
 "metadata": {
  "kernelspec": {
   "display_name": "Python 3",
   "language": "python",
   "name": "python3"
  },
  "language_info": {
   "codemirror_mode": {
    "name": "ipython",
    "version": 3
   },
   "file_extension": ".py",
   "mimetype": "text/x-python",
   "name": "python",
   "nbconvert_exporter": "python",
   "pygments_lexer": "ipython3",
   "version": "3.6.6"
  }
 },
 "nbformat": 4,
 "nbformat_minor": 1
}

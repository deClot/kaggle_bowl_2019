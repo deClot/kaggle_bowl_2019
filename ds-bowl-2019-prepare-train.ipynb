{
 "cells": [
  {
   "cell_type": "code",
   "execution_count": 1,
   "metadata": {
    "_cell_guid": "b1076dfc-b9ad-4769-8c92-a6c4dae69d19",
    "_uuid": "8f2839f25d086af736a60e9eeb907d3b93b6e0e5"
   },
   "outputs": [
    {
     "name": "stdout",
     "output_type": "stream",
     "text": [
      "/kaggle/input/data-science-bowl-2019/train.csv\n",
      "/kaggle/input/data-science-bowl-2019/specs.csv\n",
      "/kaggle/input/data-science-bowl-2019/sample_submission.csv\n",
      "/kaggle/input/data-science-bowl-2019/train_labels.csv\n",
      "/kaggle/input/data-science-bowl-2019/test.csv\n",
      "/kaggle/input/temp-ds-bowl-2019/labels_created\n",
      "/kaggle/input/temp-ds-bowl-2019/df_counter_ini\n",
      "/kaggle/input/temp-ds-bowl-2019/all_users.pkl\n",
      "/kaggle/input/temp-ds-bowl-2019/test_all_users.pkl\n"
     ]
    }
   ],
   "source": [
    "# This Python 3 environment comes with many helpful analytics libraries installed\n",
    "# It is defined by the kaggle/python docker image: https://github.com/kaggle/docker-python\n",
    "# For example, here's several helpful packages to load in \n",
    "\n",
    "import numpy as np # linear algebra\n",
    "import pandas as pd # data processing, CSV file I/O (e.g. pd.read_csv)\n",
    "\n",
    "# Input data files are available in the \"../input/\" directory.\n",
    "# For example, running this (by clicking run or pressing Shift+Enter) will list all files under the input directory\n",
    "\n",
    "import os\n",
    "for dirname, _, filenames in os.walk('/kaggle/input'):\n",
    "    for filename in filenames:\n",
    "        print(os.path.join(dirname, filename))\n",
    "\n",
    "# Any results you write to the current directory are saved as output."
   ]
  },
  {
   "cell_type": "code",
   "execution_count": 2,
   "metadata": {},
   "outputs": [],
   "source": [
    "import IPython\n",
    "\n",
    "def display(*dfs):\n",
    "    for df in dfs:\n",
    "        IPython.display.display(df)\n",
    "        \n",
    "## Function to reduce the DF size\n",
    "def reduce_mem_usage(df, verbose=True):\n",
    "    numerics = ['int16', 'int32', 'int64', 'float16', 'float32', 'float64']\n",
    "    start_mem = df.memory_usage().sum() / 1024**2    \n",
    "    for col in df.columns:\n",
    "        col_type = df[col].dtypes\n",
    "        if col_type in numerics:\n",
    "            c_min = df[col].min()\n",
    "            c_max = df[col].max()\n",
    "            if str(col_type)[:3] == 'int':\n",
    "                if c_min > np.iinfo(np.int8).min and c_max < np.iinfo(np.int8).max:\n",
    "                    df[col] = df[col].astype(np.int8)\n",
    "                elif c_min > np.iinfo(np.int16).min and c_max < np.iinfo(np.int16).max:\n",
    "                    df[col] = df[col].astype(np.int16)\n",
    "                elif c_min > np.iinfo(np.int32).min and c_max < np.iinfo(np.int32).max:\n",
    "                    df[col] = df[col].astype(np.int32)\n",
    "                elif c_min > np.iinfo(np.int64).min and c_max < np.iinfo(np.int64).max:\n",
    "                    df[col] = df[col].astype(np.int64)  \n",
    "            else:\n",
    "                if c_min > np.finfo(np.float16).min and c_max < np.finfo(np.float16).max:\n",
    "                    df[col] = df[col].astype(np.float16)\n",
    "                elif c_min > np.finfo(np.float32).min and c_max < np.finfo(np.float32).max:\n",
    "                    df[col] = df[col].astype(np.float32)\n",
    "                else:\n",
    "                    df[col] = df[col].astype(np.float64)    \n",
    "    end_mem = df.memory_usage().sum() / 1024**2\n",
    "    if verbose: print('Mem. usage decreased to {:5.2f} Mb ({:.1f}% reduction)'.format(end_mem, 100 * (start_mem - end_mem) / start_mem))\n",
    "    return df"
   ]
  },
  {
   "cell_type": "code",
   "execution_count": 3,
   "metadata": {},
   "outputs": [],
   "source": [
    "# %time df = pd.read_csv('/kaggle/input/data-science-bowl-2019/train.csv', engine='c')\n",
    "# # labels = pd.read_csv('/kaggle/input/data-science-bowl-2019/train_labels.csv')\n",
    "# df_test = pd.read_csv('/kaggle/input/data-science-bowl-2019/test.csv')\n",
    "# specs = pd.read_csv('/kaggle/input/data-science-bowl-2019/specs.csv')\n",
    "\n",
    "# df = reduce_mem_usage(df)\n",
    "# # labels = reduce_mem_usage(labels)\n",
    "# df_test = reduce_mem_usage(df_test)\n",
    "# specs = reduce_mem_usage(specs)"
   ]
  },
  {
   "cell_type": "code",
   "execution_count": 4,
   "metadata": {},
   "outputs": [
    {
     "name": "stderr",
     "output_type": "stream",
     "text": [
      "/opt/conda/lib/python3.6/site-packages/pandas/io/feather_format.py:117: FutureWarning: `nthreads` argument is deprecated, pass `use_threads` instead\n",
      "  return feather.read_feather(path, columns=columns, nthreads=int_use_threads)\n",
      "/opt/conda/lib/python3.6/site-packages/pyarrow/pandas_compat.py:751: FutureWarning: .labels was deprecated in version 0.24.0. Use .codes instead.\n",
      "  labels, = index.labels\n"
     ]
    }
   ],
   "source": [
    "# df_counter = pd.read_feather('/kaggle/input/temp-ds-bowl-2019/df_counter_ini')\n",
    "# #df_counter = pd.read_feather('/kaggle/input/temp-ds-bowl-2019/df_counter')\n",
    "labels = pd.read_feather('/kaggle/input/temp-ds-bowl-2019/labels_created')"
   ]
  },
  {
   "cell_type": "code",
   "execution_count": 5,
   "metadata": {},
   "outputs": [
    {
     "data": {
      "text/plain": [
       "((1000,), (1000, 107))"
      ]
     },
     "execution_count": 5,
     "metadata": {},
     "output_type": "execute_result"
    }
   ],
   "source": [
    "all_users = pd.read_pickle('/kaggle/input/temp-ds-bowl-2019/all_users.pkl')\n",
    "all_users.installation_id.unique().shape, labels.installation_id.unique().shape\n",
    "\n",
    "test_all_users = pd.read_pickle('/kaggle/input/temp-ds-bowl-2019/test_all_users.pkl')\n",
    "test_all_users.installation_id.unique().shape, test_all_users.shape"
   ]
  },
  {
   "cell_type": "code",
   "execution_count": 6,
   "metadata": {},
   "outputs": [
    {
     "data": {
      "text/plain": [
       "22"
      ]
     },
     "execution_count": 6,
     "metadata": {},
     "output_type": "execute_result"
    }
   ],
   "source": [
    "import gc\n",
    "gc.collect()"
   ]
  },
  {
   "cell_type": "markdown",
   "metadata": {},
   "source": [
    "# Part I - Create all_users\n",
    "## One user"
   ]
  },
  {
   "cell_type": "code",
   "execution_count": 7,
   "metadata": {},
   "outputs": [
    {
     "ename": "NameError",
     "evalue": "name 'df' is not defined",
     "output_type": "error",
     "traceback": [
      "\u001b[0;31m---------------------------------------------------------------------------\u001b[0m",
      "\u001b[0;31mNameError\u001b[0m                                 Traceback (most recent call last)",
      "\u001b[0;32m<ipython-input-7-d4a2274d5643>\u001b[0m in \u001b[0;36m<module>\u001b[0;34m\u001b[0m\n\u001b[1;32m      1\u001b[0m \u001b[0;31m#user_id, user = next(iter(df.groupby('installation_id')))\u001b[0m\u001b[0;34m\u001b[0m\u001b[0;34m\u001b[0m\u001b[0m\n\u001b[1;32m      2\u001b[0m \u001b[0muser_id\u001b[0m \u001b[0;34m=\u001b[0m \u001b[0;34m'ea49ea9c'\u001b[0m\u001b[0;31m#'29d1aaee' # '3f0dca37'\u001b[0m\u001b[0;34m\u001b[0m\u001b[0m\n\u001b[0;32m----> 3\u001b[0;31m \u001b[0muser\u001b[0m \u001b[0;34m=\u001b[0m \u001b[0mdf\u001b[0m\u001b[0;34m[\u001b[0m\u001b[0mdf\u001b[0m\u001b[0;34m.\u001b[0m\u001b[0minstallation_id\u001b[0m \u001b[0;34m==\u001b[0m \u001b[0muser_id\u001b[0m\u001b[0;34m]\u001b[0m\u001b[0;34m.\u001b[0m\u001b[0mcopy\u001b[0m\u001b[0;34m(\u001b[0m\u001b[0;34m)\u001b[0m\u001b[0;34m\u001b[0m\u001b[0m\n\u001b[0m\u001b[1;32m      4\u001b[0m \u001b[0;34m\u001b[0m\u001b[0m\n\u001b[1;32m      5\u001b[0m \u001b[0mtotall_attempts\u001b[0m \u001b[0;34m=\u001b[0m \u001b[0mlabels\u001b[0m\u001b[0;34m[\u001b[0m\u001b[0mlabels\u001b[0m\u001b[0;34m.\u001b[0m\u001b[0minstallation_id\u001b[0m \u001b[0;34m==\u001b[0m \u001b[0muser_id\u001b[0m\u001b[0;34m]\u001b[0m\u001b[0;34m.\u001b[0m\u001b[0mtotal_attempts\u001b[0m\u001b[0;34m.\u001b[0m\u001b[0msum\u001b[0m\u001b[0;34m(\u001b[0m\u001b[0;34m)\u001b[0m\u001b[0;34m\u001b[0m\u001b[0m\n",
      "\u001b[0;31mNameError\u001b[0m: name 'df' is not defined"
     ]
    }
   ],
   "source": [
    "#user_id, user = next(iter(df.groupby('installation_id')))\n",
    "user_id = 'ea49ea9c'#'29d1aaee' # '3f0dca37'\n",
    "user = df[df.installation_id == user_id].copy()\n",
    "\n",
    "totall_attempts = labels[labels.installation_id == user_id].total_attempts.sum()\n",
    "print(totall_attempts)\n",
    "\n",
    "totall_assessments  = labels[labels.installation_id == user_id].shape[0]\n",
    "totall_assessments"
   ]
  },
  {
   "cell_type": "code",
   "execution_count": 8,
   "metadata": {},
   "outputs": [
    {
     "data": {
      "text/html": [
       "<div>\n",
       "<style scoped>\n",
       "    .dataframe tbody tr th:only-of-type {\n",
       "        vertical-align: middle;\n",
       "    }\n",
       "\n",
       "    .dataframe tbody tr th {\n",
       "        vertical-align: top;\n",
       "    }\n",
       "\n",
       "    .dataframe thead th {\n",
       "        text-align: right;\n",
       "    }\n",
       "</style>\n",
       "<table border=\"1\" class=\"dataframe\">\n",
       "  <thead>\n",
       "    <tr style=\"text-align: right;\">\n",
       "      <th></th>\n",
       "      <th>game_session</th>\n",
       "      <th>world</th>\n",
       "      <th>type</th>\n",
       "      <th>timestamp</th>\n",
       "      <th>num_correct</th>\n",
       "      <th>total_attempts</th>\n",
       "      <th>installation_id</th>\n",
       "      <th>title</th>\n",
       "      <th>accuracy</th>\n",
       "      <th>num_incorrect</th>\n",
       "      <th>accuracy_group</th>\n",
       "    </tr>\n",
       "  </thead>\n",
       "  <tbody>\n",
       "    <tr>\n",
       "      <th>17</th>\n",
       "      <td>006987623dd64d70</td>\n",
       "      <td>TREETOPCITY</td>\n",
       "      <td>Assessment</td>\n",
       "      <td>2019-10-03 21:09:29.026000+00:00</td>\n",
       "      <td>0</td>\n",
       "      <td>15</td>\n",
       "      <td>ea49ea9c</td>\n",
       "      <td>Bird Measurer (Assessment)</td>\n",
       "      <td>0.0</td>\n",
       "      <td>15</td>\n",
       "      <td>0</td>\n",
       "    </tr>\n",
       "    <tr>\n",
       "      <th>4809</th>\n",
       "      <td>4656dfff269f9c34</td>\n",
       "      <td>TREETOPCITY</td>\n",
       "      <td>Assessment</td>\n",
       "      <td>2019-10-04 01:18:05.553000+00:00</td>\n",
       "      <td>0</td>\n",
       "      <td>15</td>\n",
       "      <td>ea49ea9c</td>\n",
       "      <td>Bird Measurer (Assessment)</td>\n",
       "      <td>0.0</td>\n",
       "      <td>15</td>\n",
       "      <td>0</td>\n",
       "    </tr>\n",
       "    <tr>\n",
       "      <th>7086</th>\n",
       "      <td>672887587e2acea0</td>\n",
       "      <td>TREETOPCITY</td>\n",
       "      <td>Assessment</td>\n",
       "      <td>2019-10-04 18:17:55.042000+00:00</td>\n",
       "      <td>0</td>\n",
       "      <td>13</td>\n",
       "      <td>ea49ea9c</td>\n",
       "      <td>Bird Measurer (Assessment)</td>\n",
       "      <td>0.0</td>\n",
       "      <td>13</td>\n",
       "      <td>0</td>\n",
       "    </tr>\n",
       "    <tr>\n",
       "      <th>7229</th>\n",
       "      <td>694ca296a653c7b1</td>\n",
       "      <td>TREETOPCITY</td>\n",
       "      <td>Assessment</td>\n",
       "      <td>2019-10-04 15:04:29.364000+00:00</td>\n",
       "      <td>0</td>\n",
       "      <td>4</td>\n",
       "      <td>ea49ea9c</td>\n",
       "      <td>Bird Measurer (Assessment)</td>\n",
       "      <td>0.0</td>\n",
       "      <td>4</td>\n",
       "      <td>0</td>\n",
       "    </tr>\n",
       "    <tr>\n",
       "      <th>8992</th>\n",
       "      <td>82c87eb1c81685e3</td>\n",
       "      <td>TREETOPCITY</td>\n",
       "      <td>Assessment</td>\n",
       "      <td>2019-10-03 23:02:54.805000+00:00</td>\n",
       "      <td>0</td>\n",
       "      <td>4</td>\n",
       "      <td>ea49ea9c</td>\n",
       "      <td>Bird Measurer (Assessment)</td>\n",
       "      <td>0.0</td>\n",
       "      <td>4</td>\n",
       "      <td>0</td>\n",
       "    </tr>\n",
       "    <tr>\n",
       "      <th>10258</th>\n",
       "      <td>955e711cd3e5bd0c</td>\n",
       "      <td>TREETOPCITY</td>\n",
       "      <td>Assessment</td>\n",
       "      <td>2019-10-06 18:40:13.354000+00:00</td>\n",
       "      <td>0</td>\n",
       "      <td>7</td>\n",
       "      <td>ea49ea9c</td>\n",
       "      <td>Bird Measurer (Assessment)</td>\n",
       "      <td>0.0</td>\n",
       "      <td>7</td>\n",
       "      <td>0</td>\n",
       "    </tr>\n",
       "    <tr>\n",
       "      <th>10859</th>\n",
       "      <td>9dbef9648774e85a</td>\n",
       "      <td>TREETOPCITY</td>\n",
       "      <td>Assessment</td>\n",
       "      <td>2019-10-04 02:17:18.878000+00:00</td>\n",
       "      <td>0</td>\n",
       "      <td>4</td>\n",
       "      <td>ea49ea9c</td>\n",
       "      <td>Bird Measurer (Assessment)</td>\n",
       "      <td>0.0</td>\n",
       "      <td>4</td>\n",
       "      <td>0</td>\n",
       "    </tr>\n",
       "    <tr>\n",
       "      <th>11209</th>\n",
       "      <td>a2bd92a6abfec052</td>\n",
       "      <td>TREETOPCITY</td>\n",
       "      <td>Assessment</td>\n",
       "      <td>2019-10-03 21:17:15.638000+00:00</td>\n",
       "      <td>0</td>\n",
       "      <td>6</td>\n",
       "      <td>ea49ea9c</td>\n",
       "      <td>Bird Measurer (Assessment)</td>\n",
       "      <td>0.0</td>\n",
       "      <td>6</td>\n",
       "      <td>0</td>\n",
       "    </tr>\n",
       "    <tr>\n",
       "      <th>12321</th>\n",
       "      <td>b2f1b3ab52b234ea</td>\n",
       "      <td>TREETOPCITY</td>\n",
       "      <td>Assessment</td>\n",
       "      <td>2019-10-04 01:11:03.733000+00:00</td>\n",
       "      <td>0</td>\n",
       "      <td>4</td>\n",
       "      <td>ea49ea9c</td>\n",
       "      <td>Bird Measurer (Assessment)</td>\n",
       "      <td>0.0</td>\n",
       "      <td>4</td>\n",
       "      <td>0</td>\n",
       "    </tr>\n",
       "    <tr>\n",
       "      <th>16066</th>\n",
       "      <td>e899df9cb52274df</td>\n",
       "      <td>TREETOPCITY</td>\n",
       "      <td>Assessment</td>\n",
       "      <td>2019-10-06 20:09:36.414000+00:00</td>\n",
       "      <td>0</td>\n",
       "      <td>1</td>\n",
       "      <td>ea49ea9c</td>\n",
       "      <td>Bird Measurer (Assessment)</td>\n",
       "      <td>0.0</td>\n",
       "      <td>1</td>\n",
       "      <td>0</td>\n",
       "    </tr>\n",
       "    <tr>\n",
       "      <th>17670</th>\n",
       "      <td>ffaef1d382039db8</td>\n",
       "      <td>TREETOPCITY</td>\n",
       "      <td>Assessment</td>\n",
       "      <td>2019-10-06 19:55:56.763000+00:00</td>\n",
       "      <td>0</td>\n",
       "      <td>1</td>\n",
       "      <td>ea49ea9c</td>\n",
       "      <td>Bird Measurer (Assessment)</td>\n",
       "      <td>0.0</td>\n",
       "      <td>1</td>\n",
       "      <td>0</td>\n",
       "    </tr>\n",
       "  </tbody>\n",
       "</table>\n",
       "</div>"
      ],
      "text/plain": [
       "           game_session        world        type  \\\n",
       "17     006987623dd64d70  TREETOPCITY  Assessment   \n",
       "4809   4656dfff269f9c34  TREETOPCITY  Assessment   \n",
       "7086   672887587e2acea0  TREETOPCITY  Assessment   \n",
       "7229   694ca296a653c7b1  TREETOPCITY  Assessment   \n",
       "8992   82c87eb1c81685e3  TREETOPCITY  Assessment   \n",
       "10258  955e711cd3e5bd0c  TREETOPCITY  Assessment   \n",
       "10859  9dbef9648774e85a  TREETOPCITY  Assessment   \n",
       "11209  a2bd92a6abfec052  TREETOPCITY  Assessment   \n",
       "12321  b2f1b3ab52b234ea  TREETOPCITY  Assessment   \n",
       "16066  e899df9cb52274df  TREETOPCITY  Assessment   \n",
       "17670  ffaef1d382039db8  TREETOPCITY  Assessment   \n",
       "\n",
       "                             timestamp  num_correct  total_attempts  \\\n",
       "17    2019-10-03 21:09:29.026000+00:00            0              15   \n",
       "4809  2019-10-04 01:18:05.553000+00:00            0              15   \n",
       "7086  2019-10-04 18:17:55.042000+00:00            0              13   \n",
       "7229  2019-10-04 15:04:29.364000+00:00            0               4   \n",
       "8992  2019-10-03 23:02:54.805000+00:00            0               4   \n",
       "10258 2019-10-06 18:40:13.354000+00:00            0               7   \n",
       "10859 2019-10-04 02:17:18.878000+00:00            0               4   \n",
       "11209 2019-10-03 21:17:15.638000+00:00            0               6   \n",
       "12321 2019-10-04 01:11:03.733000+00:00            0               4   \n",
       "16066 2019-10-06 20:09:36.414000+00:00            0               1   \n",
       "17670 2019-10-06 19:55:56.763000+00:00            0               1   \n",
       "\n",
       "      installation_id                       title  accuracy  num_incorrect  \\\n",
       "17           ea49ea9c  Bird Measurer (Assessment)       0.0             15   \n",
       "4809         ea49ea9c  Bird Measurer (Assessment)       0.0             15   \n",
       "7086         ea49ea9c  Bird Measurer (Assessment)       0.0             13   \n",
       "7229         ea49ea9c  Bird Measurer (Assessment)       0.0              4   \n",
       "8992         ea49ea9c  Bird Measurer (Assessment)       0.0              4   \n",
       "10258        ea49ea9c  Bird Measurer (Assessment)       0.0              7   \n",
       "10859        ea49ea9c  Bird Measurer (Assessment)       0.0              4   \n",
       "11209        ea49ea9c  Bird Measurer (Assessment)       0.0              6   \n",
       "12321        ea49ea9c  Bird Measurer (Assessment)       0.0              4   \n",
       "16066        ea49ea9c  Bird Measurer (Assessment)       0.0              1   \n",
       "17670        ea49ea9c  Bird Measurer (Assessment)       0.0              1   \n",
       "\n",
       "       accuracy_group  \n",
       "17                  0  \n",
       "4809                0  \n",
       "7086                0  \n",
       "7229                0  \n",
       "8992                0  \n",
       "10258               0  \n",
       "10859               0  \n",
       "11209               0  \n",
       "12321               0  \n",
       "16066               0  \n",
       "17670               0  "
      ]
     },
     "execution_count": 8,
     "metadata": {},
     "output_type": "execute_result"
    }
   ],
   "source": [
    "labels[labels.installation_id == user_id]"
   ]
  },
  {
   "cell_type": "code",
   "execution_count": 9,
   "metadata": {},
   "outputs": [
    {
     "ename": "NameError",
     "evalue": "name 'user' is not defined",
     "output_type": "error",
     "traceback": [
      "\u001b[0;31m---------------------------------------------------------------------------\u001b[0m",
      "\u001b[0;31mNameError\u001b[0m                                 Traceback (most recent call last)",
      "\u001b[0;32m<ipython-input-9-184b034dad33>\u001b[0m in \u001b[0;36m<module>\u001b[0;34m\u001b[0m\n\u001b[0;32m----> 1\u001b[0;31m \u001b[0muser\u001b[0m\u001b[0;34m[\u001b[0m\u001b[0;34m'timestamp'\u001b[0m\u001b[0;34m]\u001b[0m \u001b[0;34m=\u001b[0m \u001b[0mpd\u001b[0m\u001b[0;34m.\u001b[0m\u001b[0mto_datetime\u001b[0m\u001b[0;34m(\u001b[0m\u001b[0muser\u001b[0m\u001b[0;34m[\u001b[0m\u001b[0;34m'timestamp'\u001b[0m\u001b[0;34m]\u001b[0m\u001b[0;34m)\u001b[0m\u001b[0;34m\u001b[0m\u001b[0m\n\u001b[0m\u001b[1;32m      2\u001b[0m \u001b[0mprint\u001b[0m\u001b[0;34m(\u001b[0m\u001b[0muser\u001b[0m\u001b[0;34m.\u001b[0m\u001b[0mshape\u001b[0m\u001b[0;34m)\u001b[0m\u001b[0;34m\u001b[0m\u001b[0m\n\u001b[1;32m      3\u001b[0m \u001b[0muser\u001b[0m\u001b[0;34m.\u001b[0m\u001b[0msort_values\u001b[0m\u001b[0;34m(\u001b[0m\u001b[0mby\u001b[0m\u001b[0;34m=\u001b[0m\u001b[0;34m'timestamp'\u001b[0m\u001b[0;34m)\u001b[0m\u001b[0;34m.\u001b[0m\u001b[0mhead\u001b[0m\u001b[0;34m(\u001b[0m\u001b[0;34m)\u001b[0m\u001b[0;34m\u001b[0m\u001b[0m\n\u001b[1;32m      4\u001b[0m \u001b[0;34m\u001b[0m\u001b[0m\n\u001b[1;32m      5\u001b[0m user['attempt'] = ((user.type == 'Assessment') &\n",
      "\u001b[0;31mNameError\u001b[0m: name 'user' is not defined"
     ]
    }
   ],
   "source": [
    "user['timestamp'] = pd.to_datetime(user['timestamp'])\n",
    "print(user.shape)\n",
    "user.sort_values(by='timestamp').head()\n",
    "\n",
    "user['attempt'] = ((user.type == 'Assessment') &\n",
    "                       (((user.event_code == 4100) & (user.title != 'Bird Measurer (Assessment)')) |\n",
    "                        ((user.event_code == 4110)&(user.title == 'Bird Measurer (Assessment)')) )\n",
    "                   ).astype('int8')\n",
    "#attempt_idx = user[user.attempt == 1].index\n",
    "assert user.attempt.sum() == totall_attempts\n",
    "\n",
    "user['correct'] = 0\n",
    "user.loc[user.attempt == 1, 'correct'] = user[user.attempt == 1].event_data.str.contains('\"correct\":true').astype('int8')\n",
    "#user"
   ]
  },
  {
   "cell_type": "code",
   "execution_count": 10,
   "metadata": {},
   "outputs": [],
   "source": [
    "accuracy_to_group = {1: 3, 0.5: 2, 0: 0}\n",
    "\n",
    "def get_common_data(session, user_data, user_temp, user_results, test=False):\n",
    "    \"\"\"\n",
    "    params: \n",
    "        session: DataFrame - one session form groupby('game_session')\n",
    "        user_data: dict - dict with data info about user. Accumulate all infor for user though attempts.\n",
    "    return:\n",
    "        user_results: list - list of dictionaries, one for each attempt of one user\n",
    "    \"\"\"\n",
    "#     display(session)\n",
    "    \n",
    "    data_type = session.type.iloc[0]\n",
    "    world = session.world.iloc[0]\n",
    "    template = world +'_'+ data_type\n",
    "    user_temp[template+'_unique'] = user_temp.get(template+'_unique', [])\n",
    "    user_data['total_' + data_type+'_unique'] = user_data.get('total_' + data_type+'_unique', [])\n",
    "    \n",
    "    if data_type == 'Assessment' and (session.attempt.sum() >= 1 or test):  \n",
    "        attempt = user_data.copy()\n",
    "        #print(user_data['total_accuracy'])\n",
    "        temp = user_temp.copy()\n",
    "        attempt['total_accuracy'] = np.mean(temp['total_accuracy']) \\\n",
    "                                 if isinstance(temp['total_accuracy'], list) else -1\n",
    "        attempt['total_accuracy_groups'] = np.mean(temp['total_accuracy_groups']) \\\n",
    "                                        if isinstance(temp['total_accuracy_groups'], list) else -1\n",
    "        \n",
    "        #print(attempt)\n",
    "        \n",
    "        attempt['curr_attempt_world'] = world\n",
    "        attempt['curr_attempt_title'] = session.title.iloc[0]\n",
    "        attempt['curr_attempt_start_time'] = session.timestamp.iloc[0]\n",
    "        attempt['curr_attempt_duration'] = attempt['time_start'] - attempt['curr_attempt_start_time']\n",
    "        \n",
    "        # to labels\n",
    "        attempt['n_correct'] = session.correct.sum()\n",
    "        attempt['n_incorrect'] = session.attempt.sum() - attempt['n_correct']\n",
    "        \n",
    "        # TOTAL info\n",
    "        for t in ['Clip', 'Game', 'Activity', 'Assessment']:\n",
    "            attempt['total_' + t +'_unique'] = len(set(attempt['total_' + t +'_unique'])) \\\n",
    "                                                    if isinstance(attempt['total_' + t +'_unique'], list) \\\n",
    "                                                    and len(attempt['total_' + t +'_unique']) >0 else 0\n",
    "        \n",
    "        \n",
    "        # current WORLD - write all previous info in current world\n",
    "        features = [x for x in user_temp.keys() if world in str(x)]\n",
    "        temp = defaultdict(int)\n",
    "#         print('temp2', user_temp)\n",
    "        temp.update({k.replace(world, 'world'):user_temp[k] for k in features})\n",
    "#         print('world', temp)\n",
    "        f = [x.replace(world, 'world') for x in features if 'unique' in x]\n",
    "        assert len(f) <= 4\n",
    "        temp.update({k: len(set(temp[k])) for k in f})\n",
    "        temp['world_accuracy'] = np.mean(temp['world_accuracy']) \\\n",
    "                                 if isinstance(temp['world_accuracy'], list) else -1\n",
    "        temp['world_accuracy_groups'] = np.mean(temp['world_accuracy_groups']) \\\n",
    "                                        if isinstance(temp['world_accuracy_groups'], list) else -1\n",
    "        \n",
    "        f = [x for x in features if 'game_time' in x]\n",
    "        temp['world_total_game_time'] = np.sum([user_temp[x] for x in f])\n",
    "        f = [x for x in features if 'event_count' in x]\n",
    "        temp['world_total_event_count'] = np.sum([user_temp[x] for x in f])\n",
    "        f = [x for x in features if 'n_game_session' in x]\n",
    "        temp['world_total_n_game_session'] = np.sum([user_temp[x] for x in f])\n",
    "        attempt.update(temp)\n",
    "        \n",
    "        # current TITLE - write all previous info in attempts with the same title\n",
    "        title = session.title.iloc[0]\n",
    "        features = [x for x in user_temp.keys() if title in str(x)]\n",
    "        temp = defaultdict(int)\n",
    "        temp.update({k.replace(title, 'title'):user_temp[k] for k in features})\n",
    "        temp['title_accuracy'] = np.mean(temp['title_accuracy']) \\\n",
    "                                 if isinstance(temp['title_accuracy'], list) else -1\n",
    "        temp['title_accuracy_groups'] = np.mean(temp['title_accuracy_groups']) \\\n",
    "                                        if isinstance(temp['title_accuracy_groups'], list) else -1\n",
    "        attempt.update(temp)\n",
    "        \n",
    "        user_results.append(attempt)\n",
    "        \n",
    "        #  ======= Save infro for future attempt ======        \n",
    "        # current title - CALCULATE (accumulate) all previous info in attempts with the same title\n",
    "        user_temp[title + '_n_assessments'] += 1\n",
    "        user_temp[title + '_n_attempts'] += session.attempt.sum()\n",
    "        user_temp[title + '_n_correct'] += session.correct.sum()\n",
    "        user_temp[title + '_n_incorrect'] = user_temp[title + '_n_attempts'] - user_temp[title + '_n_correct']\n",
    "        user_temp[title + '_n_unfinished'] += 0  if session.attempt.sum() > 0 else 1\n",
    "        \n",
    "        if session.attempt.sum() != 0:\n",
    "            accuracy = session.correct.sum()/ session.attempt.sum()\n",
    "            user_temp[title + '_accuracy'] = user_temp.get(title+'_accuracy_groups', []) +[accuracy]\n",
    "            group = accuracy_to_group.get(accuracy, 1)\n",
    "            user_temp[title+'_accuracy_groups'] = user_temp.get(title+'_accuracy_groups', []) +[group]\n",
    "#         else:\n",
    "#             print('# Attemps == 0', session.installation_id)\n",
    "        user_temp[title + '_event_count'] += session.shape[0]\n",
    "        user_temp[title + '_game_time'] += session.game_time.max()\n",
    "        \n",
    "        # Currect attempts - to future\n",
    "        user_temp[world+'_n_correct'] += attempt['n_correct'] \n",
    "        user_temp[world+'_n_incorrect'] += attempt['n_incorrect']\n",
    "        user_data['total_n_correct'] += attempt['n_correct'] \n",
    "        user_data['total_n_incorrect'] += attempt['n_incorrect'] \n",
    "        \n",
    "        if attempt['n_correct']+attempt['n_incorrect'] != 0:\n",
    "            accuracy = attempt['n_correct']/ (attempt['n_correct']+attempt['n_incorrect'])\n",
    "            user_temp[world+'_accuracy'] = user_temp.get(world+'_accuracy', []) +[accuracy]\n",
    "            group = accuracy_to_group.get(accuracy, 1)\n",
    "            user_temp[world+'_accuracy_groups'] = user_temp.get(world+'_accuracy_groups', []) +[group]\n",
    "            \n",
    "            accuracy = attempt['n_correct']/ (attempt['n_correct']+attempt['n_incorrect'])\n",
    "            user_temp['total_accuracy'] = user_temp.get('total_accuracy', []) +[accuracy]\n",
    "            group = accuracy_to_group.get(accuracy, 1)\n",
    "            user_temp['total_accuracy_groups'] = user_temp.get('total_accuracy_groups', []) +[group]\n",
    "        \n",
    "        # else - mean was not any attempt and do not add 0 result to sum\n",
    "        \n",
    "        \n",
    "        \n",
    "    event_code_counts = session['event_code'].value_counts()\n",
    "    for i, j in zip(event_code_counts.index, event_code_counts.values):\n",
    "        user_data[i] = user_data.get(i,0) + j\n",
    "        \n",
    "    # add common info, include attempt info for next study\n",
    "    user_temp[template+'_unique'].append(session.title.iloc[0])\n",
    "    user_temp[template+'_n_game_session'] += 1\n",
    "    user_temp[template+'_event_count'] += session.shape[0]\n",
    "    \n",
    "    template_total = 'total_' + data_type\n",
    "    user_data[template_total+'_unique'].append(session.title.iloc[0])\n",
    "    user_data[template_total+'_n_game_session'] += 1\n",
    "    user_data[template_total+'_event_count'] += session.shape[0]\n",
    "    \n",
    "    if data_type != 'Clip':\n",
    "        user_temp[template+'_game_time'] += session.game_time.max()\n",
    "        user_data[template_total+'_game_time'] += session.game_time.max()\n",
    "        user_data['total_game_time'] += session.game_time.max()\n",
    "        \n",
    "    user_data['total_' + data_type] += 1\n",
    "    user_data['total_n_game_session'] += 1\n",
    "    user_data['total_event_count'] += session.shape[0]\n",
    "    \n",
    "        \n",
    "        \n",
    "    return user_results\n"
   ]
  },
  {
   "cell_type": "code",
   "execution_count": 11,
   "metadata": {},
   "outputs": [
    {
     "ename": "NameError",
     "evalue": "name 'user' is not defined",
     "output_type": "error",
     "traceback": [
      "\u001b[0;31m---------------------------------------------------------------------------\u001b[0m",
      "\u001b[0;31mNameError\u001b[0m                                 Traceback (most recent call last)",
      "\u001b[0;32m<timed exec>\u001b[0m in \u001b[0;36m<module>\u001b[0;34m\u001b[0m\n",
      "\u001b[0;31mNameError\u001b[0m: name 'user' is not defined"
     ]
    }
   ],
   "source": [
    "%%time \n",
    "user_results = []\n",
    "\n",
    "from collections import defaultdict\n",
    "user_data, user_temp = defaultdict(int), defaultdict(int)\n",
    "user_data['installation_id'] = user.installation_id.iloc[0]\n",
    "user_data['time_start'] = user.timestamp.iloc[0]\n",
    "\n",
    "for i, session in user.groupby('game_session', sort=False):\n",
    "    #print(user_data)\n",
    "    get_common_data(session, user_data, user_temp, user_results)\n",
    "    \n",
    "tt = pd.DataFrame(user_results)"
   ]
  },
  {
   "cell_type": "markdown",
   "metadata": {},
   "source": [
    "## Total: for all users"
   ]
  },
  {
   "cell_type": "markdown",
   "metadata": {},
   "source": [
    "### Info for last attemp"
   ]
  },
  {
   "cell_type": "code",
   "execution_count": 12,
   "metadata": {},
   "outputs": [],
   "source": [
    "def create_all_users(df, test=False):\n",
    "    global labels\n",
    "    all_users = pd.DataFrame()\n",
    "    \n",
    "    if test: labels = df  # all unique users with attemptions; for test - all users\n",
    "    for n,user_id in enumerate(labels.installation_id.unique()):\n",
    "        # print(n, user_id)\n",
    "        user = df[df.installation_id == user_id].copy()\n",
    "        user['timestamp'] = pd.to_datetime(user['timestamp'])\n",
    "        user.sort_values(by='timestamp', inplace=True)\n",
    "\n",
    "        user['attempt'] = ((user.type == 'Assessment') &\n",
    "                           (((user.event_code == 4100) & (user.title != 'Bird Measurer (Assessment)')) |\n",
    "                            ((user.event_code == 4110)&(user.title == 'Bird Measurer (Assessment)')) )\n",
    "                       ).astype('int8')\n",
    "\n",
    "        user['correct'] = 0\n",
    "        user.loc[user.attempt == 1, 'correct'] = user[user.attempt == 1]\\\n",
    "                                                .event_data.str.contains('\"correct\":true').astype('int8')\n",
    "\n",
    "        user_results = []\n",
    "\n",
    "        user_data, user_temp = defaultdict(int), defaultdict(int)\n",
    "        user_data['installation_id'] = user.installation_id.iloc[0]\n",
    "        user_data['time_start'] = user.timestamp.iloc[0]\n",
    "        \n",
    "        for i, session in user.groupby('game_session', sort=False):\n",
    "            get_common_data(session, user_data, user_temp, user_results, test=test)\n",
    "\n",
    "        temp = all_users.shape\n",
    "        all_users = pd.concat((all_users,pd.DataFrame(user_results)), ignore_index=True, sort=False)\n",
    "        \n",
    "        assert all_users.shape > temp, user_id\n",
    "#         display(all_users)\n",
    "#         input()\n",
    "    \n",
    "    return all_users"
   ]
  },
  {
   "cell_type": "code",
   "execution_count": 13,
   "metadata": {},
   "outputs": [],
   "source": [
    "# all_users = create_all_users(df)\n",
    "\n",
    "# print(all_users.shape, all_users.installation_id.unique().shape)\n",
    "# all_users.columns = all_users.columns.astype(str)\n",
    "# all_users.to_pickle('all_users.pkl')"
   ]
  },
  {
   "cell_type": "markdown",
   "metadata": {},
   "source": [
    "# Creating test data"
   ]
  },
  {
   "cell_type": "code",
   "execution_count": 14,
   "metadata": {},
   "outputs": [
    {
     "ename": "NameError",
     "evalue": "name 'df_test' is not defined",
     "output_type": "error",
     "traceback": [
      "\u001b[0;31m---------------------------------------------------------------------------\u001b[0m",
      "\u001b[0;31mNameError\u001b[0m                                 Traceback (most recent call last)",
      "\u001b[0;32m<ipython-input-14-2dbefef42549>\u001b[0m in \u001b[0;36m<module>\u001b[0;34m\u001b[0m\n\u001b[0;32m----> 1\u001b[0;31m \u001b[0mlabels\u001b[0m\u001b[0;34m.\u001b[0m\u001b[0minstallation_id\u001b[0m\u001b[0;34m.\u001b[0m\u001b[0munique\u001b[0m\u001b[0;34m(\u001b[0m\u001b[0;34m)\u001b[0m\u001b[0;34m.\u001b[0m\u001b[0mshape\u001b[0m\u001b[0;34m,\u001b[0m \u001b[0mdf_test\u001b[0m\u001b[0;34m.\u001b[0m\u001b[0minstallation_id\u001b[0m\u001b[0;34m.\u001b[0m\u001b[0munique\u001b[0m\u001b[0;34m(\u001b[0m\u001b[0;34m)\u001b[0m\u001b[0;34m.\u001b[0m\u001b[0mshape\u001b[0m\u001b[0;34m\u001b[0m\u001b[0m\n\u001b[0m",
      "\u001b[0;31mNameError\u001b[0m: name 'df_test' is not defined"
     ]
    }
   ],
   "source": [
    "labels.installation_id.unique().shape, df_test.installation_id.unique().shape"
   ]
  },
  {
   "cell_type": "code",
   "execution_count": 15,
   "metadata": {},
   "outputs": [],
   "source": [
    "# test_all_users = create_all_users(df_test, test=True)\n",
    "\n",
    "# test_all_users = test_all_users.groupby('installation_id', sort=False, as_index=False)\\\n",
    "#                             .agg([lambda x: x.iloc[-1]])\n",
    "# test_all_users.columns = [x[0] for x in test_all_users.columns]\n",
    "# test_all_users.reset_index(inplace=True)\n",
    "\n",
    "# print(test_all_users.shape, test_all_users.installation_id.unique().shape)\n",
    "# test_all_users.columns = test_all_users.columns.astype(str)\n",
    "# test_all_users.to_pickle('test_all_users.pkl')"
   ]
  },
  {
   "cell_type": "markdown",
   "metadata": {},
   "source": [
    "# Part II - preprocess train data\n",
    "## Features names"
   ]
  },
  {
   "cell_type": "code",
   "execution_count": 16,
   "metadata": {},
   "outputs": [],
   "source": [
    "#test_all_users.columns = test_all_users.columns.astype(str)\n",
    "\n",
    "c = test_all_users.columns\n",
    "world_columns = [x for x in c if 'world' in x and 'curr' not in x]\n",
    "title_columns = [x for x in c if 'title' in x and 'curr' not in x]\n",
    "current_columns = [x for x in c if 'curr' in x] + ['installation_id', 'time_start', 'n_correct', 'n_incorrect', \n",
    "                                                   'total_n_game_session', 'total_event_count', 'total_game_time',\n",
    "                                                   'total_n_correct', 'total_n_incorrect', \n",
    "                                                   'total_accuracy', 'total_accuracy_groups']\n",
    "total_columns = [x for x in c if 'total' in x and 'world' not in x and x not in current_columns]\n",
    "event_columns = [x for x in c if x.isdigit()]\n",
    "all_columns = world_columns+title_columns+current_columns+total_columns+event_columns\n",
    "assert c.shape[0] == len(all_columns), (c.shape[0] ,len(all_columns))"
   ]
  },
  {
   "cell_type": "markdown",
   "metadata": {},
   "source": [
    "## Fill NAN"
   ]
  },
  {
   "cell_type": "code",
   "execution_count": 17,
   "metadata": {},
   "outputs": [],
   "source": [
    "test_all_users.fillna(0., inplace=True)\n",
    "all_users.fillna(0., inplace=True)"
   ]
  },
  {
   "cell_type": "markdown",
   "metadata": {},
   "source": [
    "## Work with time"
   ]
  },
  {
   "cell_type": "code",
   "execution_count": 18,
   "metadata": {},
   "outputs": [],
   "source": [
    "def preprocess_time(test_all_users):\n",
    "    time_columns = ['time_start', 'curr_attempt_start_time'] \n",
    "    for t in time_columns:\n",
    "        test_all_users[t+'_month'] = test_all_users[t].dt.month\n",
    "        test_all_users[t+'_day'] = test_all_users[t].dt.day\n",
    "        test_all_users[t+'_hour'] = test_all_users[t].dt.hour\n",
    "        test_all_users[t+'_dayofweek'] = test_all_users[t].dt.dayofweek\n",
    "        test_all_users[t+'_month'] = test_all_users[t].dt.month\n",
    "        test_all_users[t+'_quarter'] = test_all_users[t].dt.quarter\n",
    "\n",
    "    t =  'curr_attempt_duration'\n",
    "    test_all_users[t+'seconds'] = -test_all_users[t].dt.total_seconds()\n",
    "    test_all_users[t+'hours'] = -test_all_users[t].dt.total_seconds()/60/60\n",
    "    \n",
    "    return test_all_users\n",
    "    \n",
    "    \n",
    "def create_means(all_users, temp, t=''):\n",
    "    if t != '': t ='_' + t\n",
    "    if t != '_Clip':\n",
    "        all_users[temp+t+'_game_time_mean'] =  all_users[temp+t+'_game_time']/ \\\n",
    "                                                    all_users[temp+t+'_n_game_session']\n",
    "        all_users[temp+t+'_event_time_mean'] =  all_users[temp+t+'_game_time']/ \\\n",
    "                                                    all_users[temp+t+'_event_count']\n",
    "            \n",
    "    all_users[temp+t+'_event_mean'] = all_users[temp+t+'_event_count']/ \\\n",
    "                                          all_users[temp+t+'_n_game_session']\n",
    "    return all_users\n",
    "\n",
    "\n",
    "def preprocess_data(all_users):\n",
    "    for temp in ['world', 'total']:\n",
    "        for t in ['Clip', 'Game', 'Assessment', 'Activity', 'total']:\n",
    "            if temp=='total' and t=='total': continue\n",
    "            all_users = create_means(all_users, temp, t)\n",
    "        \n",
    "        \n",
    "    all_users['title_game_time_mean'] = all_users['title_game_time']/ all_users['title_n_assessments']                                            \n",
    "    all_users['title_event_time_mean'] = all_users['title_game_time']/ all_users['title_event_count']                                            \n",
    "    all_users['title_event_mean'] = all_users['title_event_count']/ all_users['title_n_assessments']\n",
    "    \n",
    "    all_users = preprocess_time(all_users)\n",
    "    all_users = create_means(all_users, temp='total', t='')\n",
    "        \n",
    "    all_users.fillna(0., inplace=True)               \n",
    "        \n",
    "    return all_users"
   ]
  },
  {
   "cell_type": "code",
   "execution_count": 19,
   "metadata": {},
   "outputs": [],
   "source": [
    "test_all_users = preprocess_data(test_all_users)\n",
    "all_users = preprocess_data(all_users)"
   ]
  },
  {
   "cell_type": "code",
   "execution_count": 20,
   "metadata": {},
   "outputs": [
    {
     "data": {
      "text/plain": [
       "((1000, 148), (17690, 148))"
      ]
     },
     "execution_count": 20,
     "metadata": {},
     "output_type": "execute_result"
    }
   ],
   "source": [
    "test_all_users.shape, all_users.shape"
   ]
  },
  {
   "cell_type": "code",
   "execution_count": 21,
   "metadata": {},
   "outputs": [],
   "source": [
    "c = test_all_users.columns\n",
    "world_columns = [x for x in c if 'world' in x and 'curr' not in x]\n",
    "title_columns = [x for x in c if 'title' in x and 'curr' not in x]\n",
    "current_columns = [x for x in c if 'curr' in x] + ['installation_id', 'time_start', 'n_correct', 'n_incorrect', \n",
    "                                                   'total_n_game_session', 'total_event_count', 'total_game_time',\n",
    "                                                   'total_n_correct', 'total_n_incorrect', \n",
    "                                                   'total_accuracy', 'total_accuracy_groups',\n",
    "                                                   'total_game_time_mean', 'total_event_time_mean', 'total_event_mean',\n",
    "                                                   'time_start_month', 'time_start_day', 'time_start_hour',\n",
    "                                                   'time_start_dayofweek', 'time_start_quarter']\n",
    "total_columns = [x for x in c if 'total' in x and 'world' not in x and x not in current_columns]\n",
    "event_columns = [x for x in c if x.isdigit()]\n",
    "all_columns = world_columns+title_columns+current_columns+total_columns+event_columns\n",
    "assert c.shape[0] == len(all_columns), (c.shape[0] ,len(all_columns))"
   ]
  },
  {
   "cell_type": "code",
   "execution_count": 22,
   "metadata": {},
   "outputs": [],
   "source": [
    "test_all_users.to_pickle('test_all_users.pkl')\n",
    "all_users.to_pickle('all_users.pkl')"
   ]
  },
  {
   "cell_type": "code",
   "execution_count": null,
   "metadata": {},
   "outputs": [],
   "source": []
  }
 ],
 "metadata": {
  "kernelspec": {
   "display_name": "Python 3",
   "language": "python",
   "name": "python3"
  },
  "language_info": {
   "codemirror_mode": {
    "name": "ipython",
    "version": 3
   },
   "file_extension": ".py",
   "mimetype": "text/x-python",
   "name": "python",
   "nbconvert_exporter": "python",
   "pygments_lexer": "ipython3",
   "version": "3.6.6"
  }
 },
 "nbformat": 4,
 "nbformat_minor": 1
}

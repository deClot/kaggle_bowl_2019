{
 "cells": [
  {
   "cell_type": "code",
   "execution_count": 1,
   "metadata": {
    "_cell_guid": "b1076dfc-b9ad-4769-8c92-a6c4dae69d19",
    "_uuid": "8f2839f25d086af736a60e9eeb907d3b93b6e0e5"
   },
   "outputs": [
    {
     "name": "stdout",
     "output_type": "stream",
     "text": [
      "/kaggle/input/data-science-bowl-2019/train.csv\n",
      "/kaggle/input/data-science-bowl-2019/specs.csv\n",
      "/kaggle/input/data-science-bowl-2019/sample_submission.csv\n",
      "/kaggle/input/data-science-bowl-2019/train_labels.csv\n",
      "/kaggle/input/data-science-bowl-2019/test.csv\n",
      "/kaggle/input/temp-ds-bowl-2019/labels_created\n",
      "/kaggle/input/temp-ds-bowl-2019/df_counter_ini\n",
      "/kaggle/input/temp-ds-bowl-2019/all_users.pkl\n"
     ]
    }
   ],
   "source": [
    "# This Python 3 environment comes with many helpful analytics libraries installed\n",
    "# It is defined by the kaggle/python docker image: https://github.com/kaggle/docker-python\n",
    "# For example, here's several helpful packages to load in \n",
    "\n",
    "import numpy as np # linear algebra\n",
    "import pandas as pd # data processing, CSV file I/O (e.g. pd.read_csv)\n",
    "\n",
    "# Input data files are available in the \"../input/\" directory.\n",
    "# For example, running this (by clicking run or pressing Shift+Enter) will list all files under the input directory\n",
    "\n",
    "import os\n",
    "for dirname, _, filenames in os.walk('/kaggle/input'):\n",
    "    for filename in filenames:\n",
    "        print(os.path.join(dirname, filename))\n",
    "\n",
    "# Any results you write to the current directory are saved as output."
   ]
  },
  {
   "cell_type": "code",
   "execution_count": 2,
   "metadata": {},
   "outputs": [],
   "source": [
    "import IPython\n",
    "\n",
    "def display(*dfs):\n",
    "    for df in dfs:\n",
    "        IPython.display.display(df)\n",
    "        \n",
    "## Function to reduce the DF size\n",
    "def reduce_mem_usage(df, verbose=True):\n",
    "    numerics = ['int16', 'int32', 'int64', 'float16', 'float32', 'float64']\n",
    "    start_mem = df.memory_usage().sum() / 1024**2    \n",
    "    for col in df.columns:\n",
    "        col_type = df[col].dtypes\n",
    "        if col_type in numerics:\n",
    "            c_min = df[col].min()\n",
    "            c_max = df[col].max()\n",
    "            if str(col_type)[:3] == 'int':\n",
    "                if c_min > np.iinfo(np.int8).min and c_max < np.iinfo(np.int8).max:\n",
    "                    df[col] = df[col].astype(np.int8)\n",
    "                elif c_min > np.iinfo(np.int16).min and c_max < np.iinfo(np.int16).max:\n",
    "                    df[col] = df[col].astype(np.int16)\n",
    "                elif c_min > np.iinfo(np.int32).min and c_max < np.iinfo(np.int32).max:\n",
    "                    df[col] = df[col].astype(np.int32)\n",
    "                elif c_min > np.iinfo(np.int64).min and c_max < np.iinfo(np.int64).max:\n",
    "                    df[col] = df[col].astype(np.int64)  \n",
    "            else:\n",
    "                if c_min > np.finfo(np.float16).min and c_max < np.finfo(np.float16).max:\n",
    "                    df[col] = df[col].astype(np.float16)\n",
    "                elif c_min > np.finfo(np.float32).min and c_max < np.finfo(np.float32).max:\n",
    "                    df[col] = df[col].astype(np.float32)\n",
    "                else:\n",
    "                    df[col] = df[col].astype(np.float64)    \n",
    "    end_mem = df.memory_usage().sum() / 1024**2\n",
    "    if verbose: print('Mem. usage decreased to {:5.2f} Mb ({:.1f}% reduction)'.format(end_mem, 100 * (start_mem - end_mem) / start_mem))\n",
    "    return df"
   ]
  },
  {
   "cell_type": "code",
   "execution_count": 3,
   "metadata": {},
   "outputs": [
    {
     "name": "stdout",
     "output_type": "stream",
     "text": [
      "CPU times: user 1min 6s, sys: 10.7 s, total: 1min 17s\n",
      "Wall time: 1min 17s\n",
      "Mem. usage decreased to 778.73 Mb (18.2% reduction)\n",
      "Mem. usage decreased to 79.40 Mb (18.2% reduction)\n",
      "Mem. usage decreased to  0.01 Mb (0.0% reduction)\n"
     ]
    }
   ],
   "source": [
    "%time df = pd.read_csv('/kaggle/input/data-science-bowl-2019/train.csv', engine='c')\n",
    "# labels = pd.read_csv('/kaggle/input/data-science-bowl-2019/train_labels.csv')\n",
    "df_test = pd.read_csv('/kaggle/input/data-science-bowl-2019/test.csv')\n",
    "specs = pd.read_csv('/kaggle/input/data-science-bowl-2019/specs.csv')\n",
    "\n",
    "df = reduce_mem_usage(df)\n",
    "# labels = reduce_mem_usage(labels)\n",
    "df_test = reduce_mem_usage(df_test)\n",
    "specs = reduce_mem_usage(specs)"
   ]
  },
  {
   "cell_type": "code",
   "execution_count": 4,
   "metadata": {},
   "outputs": [
    {
     "name": "stderr",
     "output_type": "stream",
     "text": [
      "/opt/conda/lib/python3.6/site-packages/pandas/io/feather_format.py:117: FutureWarning: `nthreads` argument is deprecated, pass `use_threads` instead\n",
      "  return feather.read_feather(path, columns=columns, nthreads=int_use_threads)\n",
      "/opt/conda/lib/python3.6/site-packages/pyarrow/pandas_compat.py:751: FutureWarning: .labels was deprecated in version 0.24.0. Use .codes instead.\n",
      "  labels, = index.labels\n"
     ]
    }
   ],
   "source": [
    "df_counter = pd.read_feather('/kaggle/input/temp-ds-bowl-2019/df_counter_ini')\n",
    "#df_counter = pd.read_feather('/kaggle/input/temp-ds-bowl-2019/df_counter')\n",
    "labels = pd.read_feather('/kaggle/input/temp-ds-bowl-2019/labels_created')\n"
   ]
  },
  {
   "cell_type": "code",
   "execution_count": 5,
   "metadata": {},
   "outputs": [],
   "source": [
    "# all_users = pd.read_pickle('/kaggle/input/temp-ds-bowl-2019/all_users.pkl')\n",
    "# all_users.installation_id.unique().shape, labels.installation_id.unique().shape"
   ]
  },
  {
   "cell_type": "code",
   "execution_count": 6,
   "metadata": {},
   "outputs": [
    {
     "data": {
      "text/plain": [
       "22"
      ]
     },
     "execution_count": 6,
     "metadata": {},
     "output_type": "execute_result"
    }
   ],
   "source": [
    "import gc\n",
    "gc.collect()"
   ]
  },
  {
   "cell_type": "markdown",
   "metadata": {},
   "source": [
    "# Part I - Create all_users\n",
    "## One user"
   ]
  },
  {
   "cell_type": "code",
   "execution_count": 7,
   "metadata": {},
   "outputs": [
    {
     "name": "stdout",
     "output_type": "stream",
     "text": [
      "6\n"
     ]
    },
    {
     "data": {
      "text/plain": [
       "4"
      ]
     },
     "execution_count": 7,
     "metadata": {},
     "output_type": "execute_result"
    }
   ],
   "source": [
    "#user_id, user = next(iter(df.groupby('installation_id')))\n",
    "user_id = 'daed707d' #'ea49ea9c'#'29d1aaee' # '3f0dca37'\n",
    "user = df[df.installation_id == user_id].copy()\n",
    "\n",
    "totall_attempts = labels[labels.installation_id == user_id].total_attempts.sum()\n",
    "print(totall_attempts)\n",
    "\n",
    "totall_assessments  = labels[labels.installation_id == user_id].shape[0]\n",
    "totall_assessments"
   ]
  },
  {
   "cell_type": "code",
   "execution_count": 8,
   "metadata": {},
   "outputs": [
    {
     "data": {
      "text/html": [
       "<div>\n",
       "<style scoped>\n",
       "    .dataframe tbody tr th:only-of-type {\n",
       "        vertical-align: middle;\n",
       "    }\n",
       "\n",
       "    .dataframe tbody tr th {\n",
       "        vertical-align: top;\n",
       "    }\n",
       "\n",
       "    .dataframe thead th {\n",
       "        text-align: right;\n",
       "    }\n",
       "</style>\n",
       "<table border=\"1\" class=\"dataframe\">\n",
       "  <thead>\n",
       "    <tr style=\"text-align: right;\">\n",
       "      <th></th>\n",
       "      <th>game_session</th>\n",
       "      <th>world</th>\n",
       "      <th>type</th>\n",
       "      <th>timestamp</th>\n",
       "      <th>num_correct</th>\n",
       "      <th>total_attempts</th>\n",
       "      <th>installation_id</th>\n",
       "      <th>title</th>\n",
       "      <th>accuracy</th>\n",
       "      <th>num_incorrect</th>\n",
       "      <th>accuracy_group</th>\n",
       "    </tr>\n",
       "  </thead>\n",
       "  <tbody>\n",
       "    <tr>\n",
       "      <th>7</th>\n",
       "      <td>002396a496a0c1c7</td>\n",
       "      <td>TREETOPCITY</td>\n",
       "      <td>Assessment</td>\n",
       "      <td>2019-10-07 18:18:32.994000+00:00</td>\n",
       "      <td>1</td>\n",
       "      <td>1</td>\n",
       "      <td>daed707d</td>\n",
       "      <td>Bird Measurer (Assessment)</td>\n",
       "      <td>1.0</td>\n",
       "      <td>0</td>\n",
       "      <td>3</td>\n",
       "    </tr>\n",
       "    <tr>\n",
       "      <th>3730</th>\n",
       "      <td>3679af0d3808b48d</td>\n",
       "      <td>TREETOPCITY</td>\n",
       "      <td>Assessment</td>\n",
       "      <td>2019-10-07 18:16:42.566000+00:00</td>\n",
       "      <td>1</td>\n",
       "      <td>2</td>\n",
       "      <td>daed707d</td>\n",
       "      <td>Mushroom Sorter (Assessment)</td>\n",
       "      <td>0.5</td>\n",
       "      <td>1</td>\n",
       "      <td>2</td>\n",
       "    </tr>\n",
       "    <tr>\n",
       "      <th>15382</th>\n",
       "      <td>df022b1f69273a17</td>\n",
       "      <td>CRYSTALCAVES</td>\n",
       "      <td>Assessment</td>\n",
       "      <td>2019-10-08 16:33:19.865000+00:00</td>\n",
       "      <td>1</td>\n",
       "      <td>1</td>\n",
       "      <td>daed707d</td>\n",
       "      <td>Cart Balancer (Assessment)</td>\n",
       "      <td>1.0</td>\n",
       "      <td>0</td>\n",
       "      <td>3</td>\n",
       "    </tr>\n",
       "    <tr>\n",
       "      <th>15977</th>\n",
       "      <td>e74cc2056b3aee87</td>\n",
       "      <td>CRYSTALCAVES</td>\n",
       "      <td>Assessment</td>\n",
       "      <td>2019-10-10 19:18:04.921000+00:00</td>\n",
       "      <td>1</td>\n",
       "      <td>2</td>\n",
       "      <td>daed707d</td>\n",
       "      <td>Cart Balancer (Assessment)</td>\n",
       "      <td>0.5</td>\n",
       "      <td>1</td>\n",
       "      <td>2</td>\n",
       "    </tr>\n",
       "  </tbody>\n",
       "</table>\n",
       "</div>"
      ],
      "text/plain": [
       "           game_session         world        type  \\\n",
       "7      002396a496a0c1c7   TREETOPCITY  Assessment   \n",
       "3730   3679af0d3808b48d   TREETOPCITY  Assessment   \n",
       "15382  df022b1f69273a17  CRYSTALCAVES  Assessment   \n",
       "15977  e74cc2056b3aee87  CRYSTALCAVES  Assessment   \n",
       "\n",
       "                             timestamp  num_correct  total_attempts  \\\n",
       "7     2019-10-07 18:18:32.994000+00:00            1               1   \n",
       "3730  2019-10-07 18:16:42.566000+00:00            1               2   \n",
       "15382 2019-10-08 16:33:19.865000+00:00            1               1   \n",
       "15977 2019-10-10 19:18:04.921000+00:00            1               2   \n",
       "\n",
       "      installation_id                         title  accuracy  num_incorrect  \\\n",
       "7            daed707d    Bird Measurer (Assessment)       1.0              0   \n",
       "3730         daed707d  Mushroom Sorter (Assessment)       0.5              1   \n",
       "15382        daed707d    Cart Balancer (Assessment)       1.0              0   \n",
       "15977        daed707d    Cart Balancer (Assessment)       0.5              1   \n",
       "\n",
       "       accuracy_group  \n",
       "7                   3  \n",
       "3730                2  \n",
       "15382               3  \n",
       "15977               2  "
      ]
     },
     "execution_count": 8,
     "metadata": {},
     "output_type": "execute_result"
    }
   ],
   "source": [
    "labels[labels.installation_id == user_id]"
   ]
  },
  {
   "cell_type": "code",
   "execution_count": 9,
   "metadata": {},
   "outputs": [
    {
     "name": "stdout",
     "output_type": "stream",
     "text": [
      "(1650, 11)\n"
     ]
    }
   ],
   "source": [
    "user['timestamp'] = pd.to_datetime(user['timestamp'])\n",
    "print(user.shape)\n",
    "user.sort_values(by='timestamp').head()\n",
    "\n",
    "user['attempt'] = ((user.type == 'Assessment') &\n",
    "                       (((user.event_code == 4100) & (user.title != 'Bird Measurer (Assessment)')) |\n",
    "                        ((user.event_code == 4110)&(user.title == 'Bird Measurer (Assessment)')) )\n",
    "                   ).astype('int8')\n",
    "#attempt_idx = user[user.attempt == 1].index\n",
    "assert user.attempt.sum() == totall_attempts\n",
    "\n",
    "user['correct'] = 0\n",
    "user.loc[user.attempt == 1, 'correct'] = user[user.attempt == 1].event_data.str.contains('\"correct\":true').astype('int8')\n",
    "#user"
   ]
  },
  {
   "cell_type": "code",
   "execution_count": 10,
   "metadata": {},
   "outputs": [],
   "source": [
    "def get_common_data(session, user_data, user_temp, user_results, test=False):\n",
    "    \"\"\"\n",
    "    params: \n",
    "        session: DataFrame - one session form groupby('game_session')\n",
    "        user_data: dict - dict with data info about user. Accumulate all infor for user though attempts.\n",
    "    return:\n",
    "        user_results: list - list of dictionaries, one for each attempt of one user\n",
    "    \"\"\"\n",
    "#     display(session)\n",
    "    \n",
    "    data_type = session.type.iloc[0]\n",
    "    world = session.world.iloc[0]\n",
    "    template = world +'_'+ data_type\n",
    "    user_temp[template+'_unique'] = user_temp.get(template+'_unique', [])\n",
    "    user_data['total_' + data_type+'_unique'] = user_data.get('total_' + data_type+'_unique', [])\n",
    "    \n",
    "    if data_type == 'Assessment' and (session.attempt.sum() >= 1 or test):  \n",
    "        attempt = user_data.copy()\n",
    "        #print(attempt)\n",
    "        \n",
    "        attempt['curr_attempt_world'] = world\n",
    "        attempt['curr_attempt_title'] = session.title.iloc[0]\n",
    "        attempt['curr_attempt_start_time'] = session.timestamp.iloc[0]\n",
    "        attempt['curr_attempt_duration'] = attempt['time_start'] - attempt['curr_attempt_start_time']\n",
    "        \n",
    "        # to labels\n",
    "        attempt['n_correct'] = session.correct.sum()\n",
    "        attempt['n_incorrect'] = session.attempt.sum() - attempt['n_correct']\n",
    "        \n",
    "        # TOTAL info\n",
    "        for t in ['Clip', 'Game', 'Activity', 'Assessment']:\n",
    "            attempt['total_' + t +'_unique'] = len(set(attempt['total_' + t +'_unique'])) \\\n",
    "                                                    if isinstance(attempt['total_' + t +'_unique'], list) \\\n",
    "                                                    and len(attempt['total_' + t +'_unique']) >0 else 0\n",
    "        \n",
    "        \n",
    "        # current WORLD - write all previous info in current world\n",
    "        features = [x for x in user_temp.keys() if world in str(x)]\n",
    "        temp = defaultdict(int)\n",
    "#         print('temp2', user_temp)\n",
    "        temp.update({k.replace(world, 'world'):user_temp[k] for k in features})\n",
    "#         print('world', temp)\n",
    "        f = [x.replace(world, 'world') for x in features if 'unique' in x]\n",
    "        assert len(f) <= 4\n",
    "        temp.update({k: len(set(temp[k])) for k in f})\n",
    "        temp['world_accuracy'] = temp['world_n_correct']/ (temp['world_n_correct']+temp['world_n_incorrect'])\\\n",
    "                                 if temp['world_n_correct']+temp['world_n_incorrect']!=  0 else -1\n",
    "        f = [x for x in features if 'game_time' in x]\n",
    "        temp['world_total_game_time'] = np.sum([user_temp[x] for x in f])\n",
    "        f = [x for x in features if 'event_count' in x]\n",
    "        temp['world_total_event_count'] = np.sum([user_temp[x] for x in f])\n",
    "        f = [x for x in features if 'n_game_session' in x]\n",
    "        temp['world_total_game_session'] = np.sum([user_temp[x] for x in f])\n",
    "        attempt.update(temp)\n",
    "        \n",
    "        # current TITLE - write all previous info in attempts with the same title\n",
    "        title = session.title.iloc[0]\n",
    "        features = [x for x in user_temp.keys() if title in str(x)]\n",
    "        temp = {k.replace(title, 'title'):user_temp[k] for k in features}\n",
    "        attempt.update(temp)\n",
    "        \n",
    "        user_results.append(attempt)\n",
    "        \n",
    "        #  ======= Save infro for future attempt ======        \n",
    "        # current title - CALCULATE (accumulate) all previous info in attempts with the same title\n",
    "        user_temp[title + '_n_assessments'] += 1\n",
    "        user_temp[title + '_n_attempts'] += session.attempt.sum()\n",
    "        user_temp[title + '_n_correct'] += session.correct.sum()\n",
    "        user_temp[title + '_n_incorrect'] = user_temp[title + '_n_attempts'] - user_temp[title + '_n_correct']\n",
    "        user_temp[title + '_n_unfinished'] += 0  if session.attempt.sum() > 0 else 1\n",
    "        user_temp[title + '_accuracy'] = user_temp[title + '_n_correct'] / user_temp[title + '_n_attempts']\n",
    "        \n",
    "        user_temp[title + '_event_count'] += session.shape[0]\n",
    "        user_temp[title + '_game_time'] += session.game_time.max()\n",
    "        \n",
    "        # Currect attempts - to future\n",
    "        user_temp[world+'_n_correct'] += attempt['n_correct'] \n",
    "        user_temp[world+'_n_incorrect'] += attempt['n_incorrect']\n",
    "        user_data['total_n_correct'] += attempt['n_correct'] \n",
    "        user_data['total_n_incorrect'] += attempt['n_incorrect'] \n",
    "        \n",
    "    event_code_counts = session['event_code'].value_counts()\n",
    "    for i, j in zip(event_code_counts.index, event_code_counts.values):\n",
    "        user_data[i] = user_data.get(i,0) + j\n",
    "        \n",
    "    # add common info, include attempt info for next study\n",
    "    user_temp[template+'_unique'].append(session.title.iloc[0])\n",
    "    user_temp[template+'_n_game_session'] += 1\n",
    "    user_temp[template+'_event_count'] += session.shape[0]\n",
    "    \n",
    "    template_total = 'total_' + data_type\n",
    "    user_data[template_total+'_unique'].append(session.title.iloc[0])\n",
    "    user_data[template_total+'_n_game_session'] += 1\n",
    "    user_data[template_total+'_event_count'] += session.shape[0]\n",
    "    \n",
    "    if data_type != 'Clip':\n",
    "        user_temp[template+'_game_time'] += session.game_time.max()\n",
    "        user_data[template_total+'_game_time'] += session.game_time.max()\n",
    "        user_data['total_game_time'] += session.game_time.max()\n",
    "        \n",
    "    user_data['total_' + data_type] += 1\n",
    "    user_data['total_n_game_session'] += 1\n",
    "    user_data['total_event_count'] += session.shape[0]\n",
    "    \n",
    "        \n",
    "        \n",
    "    return user_results\n"
   ]
  },
  {
   "cell_type": "code",
   "execution_count": 11,
   "metadata": {},
   "outputs": [
    {
     "name": "stdout",
     "output_type": "stream",
     "text": [
      "CPU times: user 104 ms, sys: 0 ns, total: 104 ms\n",
      "Wall time: 103 ms\n"
     ]
    }
   ],
   "source": [
    "%%time \n",
    "user_results = []\n",
    "\n",
    "from collections import defaultdict\n",
    "user_data, user_temp = defaultdict(int), defaultdict(int)\n",
    "user_data['installation_id'] = user.installation_id.iloc[0]\n",
    "user_data['time_start'] = user.timestamp.iloc[0]\n",
    "\n",
    "for i, session in user.groupby('game_session', sort=False):\n",
    "    #print(user_data)\n",
    "    get_common_data(session, user_data, user_temp, user_results)\n",
    "    \n",
    "tt = pd.DataFrame(user_results)"
   ]
  },
  {
   "cell_type": "code",
   "execution_count": null,
   "metadata": {},
   "outputs": [],
   "source": []
  },
  {
   "cell_type": "code",
   "execution_count": 12,
   "metadata": {},
   "outputs": [
    {
     "data": {
      "text/html": [
       "<div>\n",
       "<style scoped>\n",
       "    .dataframe tbody tr th:only-of-type {\n",
       "        vertical-align: middle;\n",
       "    }\n",
       "\n",
       "    .dataframe tbody tr th {\n",
       "        vertical-align: top;\n",
       "    }\n",
       "\n",
       "    .dataframe thead th {\n",
       "        text-align: right;\n",
       "    }\n",
       "</style>\n",
       "<table border=\"1\" class=\"dataframe\">\n",
       "  <thead>\n",
       "    <tr style=\"text-align: right;\">\n",
       "      <th></th>\n",
       "      <th>installation_id</th>\n",
       "      <th>time_start</th>\n",
       "      <th>total_Clip_unique</th>\n",
       "      <th>2000</th>\n",
       "      <th>total_Clip_n_game_session</th>\n",
       "      <th>total_Clip_event_count</th>\n",
       "      <th>total_Clip</th>\n",
       "      <th>total_n_game_session</th>\n",
       "      <th>total_event_count</th>\n",
       "      <th>total_Activity_unique</th>\n",
       "      <th>...</th>\n",
       "      <th>5000</th>\n",
       "      <th>4031</th>\n",
       "      <th>title_n_assessments</th>\n",
       "      <th>title_n_attempts</th>\n",
       "      <th>title_n_correct</th>\n",
       "      <th>title_n_incorrect</th>\n",
       "      <th>title_n_unfinished</th>\n",
       "      <th>title_accuracy</th>\n",
       "      <th>title_event_count</th>\n",
       "      <th>title_game_time</th>\n",
       "    </tr>\n",
       "  </thead>\n",
       "  <tbody>\n",
       "    <tr>\n",
       "      <th>0</th>\n",
       "      <td>daed707d</td>\n",
       "      <td>2019-10-04 16:37:00.854000+00:00</td>\n",
       "      <td>4</td>\n",
       "      <td>6</td>\n",
       "      <td>4</td>\n",
       "      <td>4</td>\n",
       "      <td>4</td>\n",
       "      <td>6</td>\n",
       "      <td>210</td>\n",
       "      <td>2</td>\n",
       "      <td>...</td>\n",
       "      <td>NaN</td>\n",
       "      <td>NaN</td>\n",
       "      <td>NaN</td>\n",
       "      <td>NaN</td>\n",
       "      <td>NaN</td>\n",
       "      <td>NaN</td>\n",
       "      <td>NaN</td>\n",
       "      <td>NaN</td>\n",
       "      <td>NaN</td>\n",
       "      <td>NaN</td>\n",
       "    </tr>\n",
       "    <tr>\n",
       "      <th>1</th>\n",
       "      <td>daed707d</td>\n",
       "      <td>2019-10-04 16:37:00.854000+00:00</td>\n",
       "      <td>5</td>\n",
       "      <td>8</td>\n",
       "      <td>5</td>\n",
       "      <td>5</td>\n",
       "      <td>5</td>\n",
       "      <td>8</td>\n",
       "      <td>255</td>\n",
       "      <td>2</td>\n",
       "      <td>...</td>\n",
       "      <td>NaN</td>\n",
       "      <td>NaN</td>\n",
       "      <td>NaN</td>\n",
       "      <td>NaN</td>\n",
       "      <td>NaN</td>\n",
       "      <td>NaN</td>\n",
       "      <td>NaN</td>\n",
       "      <td>NaN</td>\n",
       "      <td>NaN</td>\n",
       "      <td>NaN</td>\n",
       "    </tr>\n",
       "    <tr>\n",
       "      <th>2</th>\n",
       "      <td>daed707d</td>\n",
       "      <td>2019-10-04 16:37:00.854000+00:00</td>\n",
       "      <td>7</td>\n",
       "      <td>14</td>\n",
       "      <td>8</td>\n",
       "      <td>8</td>\n",
       "      <td>8</td>\n",
       "      <td>14</td>\n",
       "      <td>486</td>\n",
       "      <td>2</td>\n",
       "      <td>...</td>\n",
       "      <td>NaN</td>\n",
       "      <td>NaN</td>\n",
       "      <td>NaN</td>\n",
       "      <td>NaN</td>\n",
       "      <td>NaN</td>\n",
       "      <td>NaN</td>\n",
       "      <td>NaN</td>\n",
       "      <td>NaN</td>\n",
       "      <td>NaN</td>\n",
       "      <td>NaN</td>\n",
       "    </tr>\n",
       "    <tr>\n",
       "      <th>3</th>\n",
       "      <td>daed707d</td>\n",
       "      <td>2019-10-04 16:37:00.854000+00:00</td>\n",
       "      <td>10</td>\n",
       "      <td>34</td>\n",
       "      <td>18</td>\n",
       "      <td>18</td>\n",
       "      <td>18</td>\n",
       "      <td>34</td>\n",
       "      <td>1590</td>\n",
       "      <td>6</td>\n",
       "      <td>...</td>\n",
       "      <td>13.0</td>\n",
       "      <td>13.0</td>\n",
       "      <td>1.0</td>\n",
       "      <td>1.0</td>\n",
       "      <td>1.0</td>\n",
       "      <td>0.0</td>\n",
       "      <td>0.0</td>\n",
       "      <td>1.0</td>\n",
       "      <td>14.0</td>\n",
       "      <td>15811.0</td>\n",
       "    </tr>\n",
       "  </tbody>\n",
       "</table>\n",
       "<p>4 rows × 93 columns</p>\n",
       "</div>"
      ],
      "text/plain": [
       "  installation_id                       time_start  total_Clip_unique  2000  \\\n",
       "0        daed707d 2019-10-04 16:37:00.854000+00:00                  4     6   \n",
       "1        daed707d 2019-10-04 16:37:00.854000+00:00                  5     8   \n",
       "2        daed707d 2019-10-04 16:37:00.854000+00:00                  7    14   \n",
       "3        daed707d 2019-10-04 16:37:00.854000+00:00                 10    34   \n",
       "\n",
       "   total_Clip_n_game_session  total_Clip_event_count  total_Clip  \\\n",
       "0                          4                       4           4   \n",
       "1                          5                       5           5   \n",
       "2                          8                       8           8   \n",
       "3                         18                      18          18   \n",
       "\n",
       "   total_n_game_session  total_event_count  total_Activity_unique  ...  5000  \\\n",
       "0                     6                210                      2  ...   NaN   \n",
       "1                     8                255                      2  ...   NaN   \n",
       "2                    14                486                      2  ...   NaN   \n",
       "3                    34               1590                      6  ...  13.0   \n",
       "\n",
       "   4031  title_n_assessments  title_n_attempts  title_n_correct  \\\n",
       "0   NaN                  NaN               NaN              NaN   \n",
       "1   NaN                  NaN               NaN              NaN   \n",
       "2   NaN                  NaN               NaN              NaN   \n",
       "3  13.0                  1.0               1.0              1.0   \n",
       "\n",
       "   title_n_incorrect  title_n_unfinished  title_accuracy  title_event_count  \\\n",
       "0                NaN                 NaN             NaN                NaN   \n",
       "1                NaN                 NaN             NaN                NaN   \n",
       "2                NaN                 NaN             NaN                NaN   \n",
       "3                0.0                 0.0             1.0               14.0   \n",
       "\n",
       "   title_game_time  \n",
       "0              NaN  \n",
       "1              NaN  \n",
       "2              NaN  \n",
       "3          15811.0  \n",
       "\n",
       "[4 rows x 93 columns]"
      ]
     },
     "execution_count": 12,
     "metadata": {},
     "output_type": "execute_result"
    }
   ],
   "source": [
    "tt"
   ]
  },
  {
   "cell_type": "markdown",
   "metadata": {},
   "source": [
    "## Total: for all users"
   ]
  },
  {
   "cell_type": "markdown",
   "metadata": {},
   "source": [
    "### Info for last attemp"
   ]
  },
  {
   "cell_type": "code",
   "execution_count": 13,
   "metadata": {},
   "outputs": [],
   "source": [
    "def create_all_users(df, test=False):\n",
    "    global labels\n",
    "    all_users = pd.DataFrame()\n",
    "    \n",
    "    if test: labels = df  # all unique users with attemptions; for test - all users\n",
    "    for n,user_id in enumerate(labels.installation_id.unique()):\n",
    "        # print(n, user_id)\n",
    "        user = df[df.installation_id == user_id].copy()\n",
    "        user['timestamp'] = pd.to_datetime(user['timestamp'])\n",
    "        user.sort_values(by='timestamp', inplace=True)\n",
    "\n",
    "        user['attempt'] = ((user.type == 'Assessment') &\n",
    "                           (((user.event_code == 4100) & (user.title != 'Bird Measurer (Assessment)')) |\n",
    "                            ((user.event_code == 4110)&(user.title == 'Bird Measurer (Assessment)')) )\n",
    "                       ).astype('int8')\n",
    "\n",
    "        user['correct'] = 0\n",
    "        user.loc[user.attempt == 1, 'correct'] = user[user.attempt == 1]\\\n",
    "                                                .event_data.str.contains('\"correct\":true').astype('int8')\n",
    "\n",
    "        user_results = []\n",
    "\n",
    "        user_data, user_temp = defaultdict(int), defaultdict(int)\n",
    "        user_data['installation_id'] = user.installation_id.iloc[0]\n",
    "        user_data['time_start'] = user.timestamp.iloc[0]\n",
    "        \n",
    "        for i, session in user.groupby('game_session', sort=False):\n",
    "            get_common_data(session, user_data, user_temp, user_results, test=test)\n",
    "\n",
    "        temp = all_users.shape\n",
    "        all_users = pd.concat((all_users,pd.DataFrame(user_results)), ignore_index=True, sort=False)\n",
    "        \n",
    "        assert all_users.shape > temp, user_id\n",
    "#         display(all_users)\n",
    "#         input()\n",
    "    \n",
    "    return all_users"
   ]
  },
  {
   "cell_type": "code",
   "execution_count": 14,
   "metadata": {},
   "outputs": [],
   "source": [
    "all_users = create_all_users(df)"
   ]
  },
  {
   "cell_type": "code",
   "execution_count": 15,
   "metadata": {},
   "outputs": [
    {
     "name": "stdout",
     "output_type": "stream",
     "text": [
      "(17690, 103) (3614,)\n"
     ]
    }
   ],
   "source": [
    "print(all_users.shape, all_users.installation_id.unique().shape)\n",
    "all_users.columns = all_users.columns.astype(str)\n",
    "all_users.to_pickle('all_users.pkl')"
   ]
  },
  {
   "cell_type": "markdown",
   "metadata": {},
   "source": [
    "# Creating test data"
   ]
  },
  {
   "cell_type": "code",
   "execution_count": 16,
   "metadata": {},
   "outputs": [
    {
     "data": {
      "text/plain": [
       "((3614,), (1000,))"
      ]
     },
     "execution_count": 16,
     "metadata": {},
     "output_type": "execute_result"
    }
   ],
   "source": [
    "labels.installation_id.unique().shape, df_test.installation_id.unique().shape"
   ]
  },
  {
   "cell_type": "code",
   "execution_count": 17,
   "metadata": {},
   "outputs": [
    {
     "name": "stderr",
     "output_type": "stream",
     "text": [
      "/opt/conda/lib/python3.6/site-packages/ipykernel_launcher.py:71: RuntimeWarning: invalid value encountered in long_scalars\n"
     ]
    }
   ],
   "source": [
    "test_all_users = create_all_users(df_test, test=True)"
   ]
  },
  {
   "cell_type": "code",
   "execution_count": 18,
   "metadata": {},
   "outputs": [],
   "source": [
    "test_all_users = test_all_users.groupby('installation_id', sort=False, as_index=False)\\\n",
    "                            .agg([lambda x: x.iloc[-1]])\n",
    "test_all_users.columns = [x[0] for x in test_all_users.columns]\n",
    "test_all_users.reset_index(inplace=True)"
   ]
  },
  {
   "cell_type": "code",
   "execution_count": 19,
   "metadata": {},
   "outputs": [
    {
     "name": "stdout",
     "output_type": "stream",
     "text": [
      "(1000, 103) (1000,)\n"
     ]
    }
   ],
   "source": [
    "print(test_all_users.shape, test_all_users.installation_id.unique().shape)\n",
    "test_all_users.columns = test_all_users.columns.astype(str)\n",
    "test_all_users.to_pickle('test_all_users.pkl')"
   ]
  },
  {
   "cell_type": "code",
   "execution_count": 20,
   "metadata": {},
   "outputs": [],
   "source": [
    "# with pd.option_context('display.max_rows', -1, 'display.max_columns', 5):\n",
    "#     display(test_all[test_all.index == idx].T)"
   ]
  },
  {
   "cell_type": "markdown",
   "metadata": {},
   "source": [
    "# Part II - preprocess train data"
   ]
  },
  {
   "cell_type": "code",
   "execution_count": 21,
   "metadata": {},
   "outputs": [
    {
     "ename": "NameError",
     "evalue": "name 'test_all' is not defined",
     "output_type": "error",
     "traceback": [
      "\u001b[0;31m---------------------------------------------------------------------------\u001b[0m",
      "\u001b[0;31mNameError\u001b[0m                                 Traceback (most recent call last)",
      "\u001b[0;32m<ipython-input-21-47273495703d>\u001b[0m in \u001b[0;36m<module>\u001b[0;34m\u001b[0m\n\u001b[0;32m----> 1\u001b[0;31m \u001b[0mtest_all_users\u001b[0m \u001b[0;34m=\u001b[0m \u001b[0mtest_all\u001b[0m\u001b[0;34m\u001b[0m\u001b[0m\n\u001b[0m\u001b[1;32m      2\u001b[0m \u001b[0mtest_all_users\u001b[0m\u001b[0;34m.\u001b[0m\u001b[0mreset_index\u001b[0m\u001b[0;34m(\u001b[0m\u001b[0minplace\u001b[0m\u001b[0;34m=\u001b[0m\u001b[0;32mTrue\u001b[0m\u001b[0;34m)\u001b[0m\u001b[0;34m\u001b[0m\u001b[0m\n\u001b[1;32m      3\u001b[0m \u001b[0mtest_all_users\u001b[0m\u001b[0;34m.\u001b[0m\u001b[0mhead\u001b[0m\u001b[0;34m(\u001b[0m\u001b[0;34m)\u001b[0m\u001b[0;34m\u001b[0m\u001b[0m\n",
      "\u001b[0;31mNameError\u001b[0m: name 'test_all' is not defined"
     ]
    }
   ],
   "source": [
    "test_all_users = test_all\n",
    "test_all_users.reset_index(inplace=True)\n",
    "test_all_users.head()"
   ]
  },
  {
   "cell_type": "markdown",
   "metadata": {},
   "source": [
    "# Features names"
   ]
  },
  {
   "cell_type": "code",
   "execution_count": 22,
   "metadata": {},
   "outputs": [],
   "source": [
    "test_all_users.columns = test_all_users.columns.astype(str)\n",
    "\n",
    "c = test_all_users.columns\n",
    "worlds_columns = [x for x in c if 'world' in x and 'curr' not in x]\n",
    "title_columns = [x for x in c if 'title' in x and 'curr' not in x]\n",
    "current_columns = [x for x in c if 'curr' in x] + ['installation_id', 'time_start', 'n_correct', 'n_incorrect', \n",
    "                                                   'total_n_game_session', 'total_event_count', 'total_n_correct',\n",
    "                                                    'total_n_incorrect' ]\n",
    "total_columns = [x for x in c if 'total' in x and 'world' not in x and x not in current_columns]\n",
    "event_columns = [x for x in c if x.isdigit()]\n",
    "all_columns = worlds_columns+title_columns+current_columns+total_columns+event_columns\n",
    "assert c.shape[0] == len(all_columns), (c.shape[0] ,len(all_columns))"
   ]
  },
  {
   "cell_type": "code",
   "execution_count": 23,
   "metadata": {},
   "outputs": [
    {
     "name": "stderr",
     "output_type": "stream",
     "text": [
      "/opt/conda/lib/python3.6/site-packages/ipykernel_launcher.py:1: FutureWarning: Passing integers to fillna is deprecated, will raise a TypeError in a future version.  To retain the old behavior, pass pd.Timedelta(seconds=n) instead.\n",
      "  \"\"\"Entry point for launching an IPython kernel.\n"
     ]
    }
   ],
   "source": [
    "test_all_users.fillna(0, inplace=True)"
   ]
  },
  {
   "cell_type": "code",
   "execution_count": 24,
   "metadata": {},
   "outputs": [
    {
     "ename": "AttributeError",
     "evalue": "'DataFrame' object has no attribute 't'",
     "output_type": "error",
     "traceback": [
      "\u001b[0;31m---------------------------------------------------------------------------\u001b[0m",
      "\u001b[0;31mAttributeError\u001b[0m                            Traceback (most recent call last)",
      "\u001b[0;32m<ipython-input-24-7baff3b7079c>\u001b[0m in \u001b[0;36m<module>\u001b[0;34m\u001b[0m\n\u001b[0;32m----> 1\u001b[0;31m \u001b[0mtest_all_users\u001b[0m\u001b[0;34m.\u001b[0m\u001b[0mt\u001b[0m\u001b[0;34m\u001b[0m\u001b[0m\n\u001b[0m",
      "\u001b[0;32m/opt/conda/lib/python3.6/site-packages/pandas/core/generic.py\u001b[0m in \u001b[0;36m__getattr__\u001b[0;34m(self, name)\u001b[0m\n\u001b[1;32m   5177\u001b[0m             \u001b[0;32mif\u001b[0m \u001b[0mself\u001b[0m\u001b[0;34m.\u001b[0m\u001b[0m_info_axis\u001b[0m\u001b[0;34m.\u001b[0m\u001b[0m_can_hold_identifiers_and_holds_name\u001b[0m\u001b[0;34m(\u001b[0m\u001b[0mname\u001b[0m\u001b[0;34m)\u001b[0m\u001b[0;34m:\u001b[0m\u001b[0;34m\u001b[0m\u001b[0m\n\u001b[1;32m   5178\u001b[0m                 \u001b[0;32mreturn\u001b[0m \u001b[0mself\u001b[0m\u001b[0;34m[\u001b[0m\u001b[0mname\u001b[0m\u001b[0;34m]\u001b[0m\u001b[0;34m\u001b[0m\u001b[0m\n\u001b[0;32m-> 5179\u001b[0;31m             \u001b[0;32mreturn\u001b[0m \u001b[0mobject\u001b[0m\u001b[0;34m.\u001b[0m\u001b[0m__getattribute__\u001b[0m\u001b[0;34m(\u001b[0m\u001b[0mself\u001b[0m\u001b[0;34m,\u001b[0m \u001b[0mname\u001b[0m\u001b[0;34m)\u001b[0m\u001b[0;34m\u001b[0m\u001b[0m\n\u001b[0m\u001b[1;32m   5180\u001b[0m \u001b[0;34m\u001b[0m\u001b[0m\n\u001b[1;32m   5181\u001b[0m     \u001b[0;32mdef\u001b[0m \u001b[0m__setattr__\u001b[0m\u001b[0;34m(\u001b[0m\u001b[0mself\u001b[0m\u001b[0;34m,\u001b[0m \u001b[0mname\u001b[0m\u001b[0;34m,\u001b[0m \u001b[0mvalue\u001b[0m\u001b[0;34m)\u001b[0m\u001b[0;34m:\u001b[0m\u001b[0;34m\u001b[0m\u001b[0m\n",
      "\u001b[0;31mAttributeError\u001b[0m: 'DataFrame' object has no attribute 't'"
     ]
    }
   ],
   "source": [
    "test_all_users.t"
   ]
  },
  {
   "cell_type": "code",
   "execution_count": 25,
   "metadata": {},
   "outputs": [
    {
     "data": {
      "text/plain": [
       "world_Game_n_game_session               4\n",
       "world_Game_event_count                535\n",
       "world_Game_game_time               691800\n",
       "world_Activity_unique                   2\n",
       "world_Activity_n_game_session           2\n",
       "world_Activity_event_count            192\n",
       "world_Activity_game_time           243817\n",
       "world_Assessment_unique                 1\n",
       "world_n_correct                         1\n",
       "world_n_incorrect                       0\n",
       "world_accuracy                          1\n",
       "world_total_game_time              972787\n",
       "world_total_event_count               771\n",
       "world_total_game_session               13\n",
       "total_n_correct                         1\n",
       "total_n_incorrect                       0\n",
       "2010                                    1\n",
       "4100                                   15\n",
       "total_Assessment_n_game_session         1\n",
       "total_Assessment_event_count           38\n",
       "total_Assessment_game_time          37170\n",
       "total_Assessment                        1\n",
       "2070                                  NaN\n",
       "2060                                    2\n",
       "4025                                   24\n",
       "world_Assessment_n_game_session         1\n",
       "world_Assessment_event_count           38\n",
       "world_Assessment_game_time          37170\n",
       "4021                                  NaN\n",
       "2040                                  NaN\n",
       "2050                                  NaN\n",
       "5010                                  NaN\n",
       "5000                                  NaN\n",
       "4031                                  NaN\n",
       "2035                                  NaN\n",
       "2025                                  NaN\n",
       "4110                                  NaN\n",
       "2081                                  NaN\n",
       "title_n_assessments                   NaN\n",
       "title_n_attempts                      NaN\n",
       "title_n_correct                       NaN\n",
       "title_n_incorrect                     NaN\n",
       "title_n_unfinished                    NaN\n",
       "title_accuracy                        NaN\n",
       "title_event_count                     NaN\n",
       "title_game_time                       NaN\n",
       "2075                                    2\n",
       "4230                                  NaN\n",
       "4235                                  NaN\n",
       "4220                                  NaN\n",
       "4050                                  NaN\n",
       "4080                                  NaN\n",
       "4090                                  NaN\n",
       "Name: 17, dtype: object"
      ]
     },
     "execution_count": 25,
     "metadata": {},
     "output_type": "execute_result"
    }
   ],
   "source": [
    "all_users[all_users.installation_id == '29d1aaee'].iloc[1,50:]"
   ]
  },
  {
   "cell_type": "markdown",
   "metadata": {},
   "source": [
    "# Labels"
   ]
  },
  {
   "cell_type": "code",
   "execution_count": null,
   "metadata": {},
   "outputs": [],
   "source": [
    "\n",
    "      "
   ]
  },
  {
   "cell_type": "code",
   "execution_count": 26,
   "metadata": {},
   "outputs": [],
   "source": [
    "import matplotlib.pyplot as plt\n",
    "import seaborn as sns\n",
    "\n",
    "sns.set(palette='deep')\n",
    "sns.set_style(\"dark\")"
   ]
  },
  {
   "cell_type": "code",
   "execution_count": 27,
   "metadata": {},
   "outputs": [],
   "source": [
    "def autolabel(ratio, ax):\n",
    "    \"\"\"Attach a text label above each bar in *rects*, displaying its height.\"\"\"\n",
    "    for x, t in enumerate(ax.get_xticklabels()):\n",
    "        f = t.get_text()\n",
    "        try: f = int(f)\n",
    "        except: pass\n",
    "        ax.annotate(f'{ratio[f]:.2f}%',\n",
    "                    xy=(x, 0),\n",
    "                    xytext=(0, 3),  # 3 points vertical offset\n",
    "                    textcoords=\"offset points\",\n",
    "                    ha='center', va='bottom')"
   ]
  },
  {
   "cell_type": "code",
   "execution_count": 28,
   "metadata": {},
   "outputs": [
    {
     "ename": "ValueError",
     "evalue": "Could not interpret input 'accuracy_group'",
     "output_type": "error",
     "traceback": [
      "\u001b[0;31m---------------------------------------------------------------------------\u001b[0m",
      "\u001b[0;31mValueError\u001b[0m                                Traceback (most recent call last)",
      "\u001b[0;32m<ipython-input-28-0c9951ff2ef3>\u001b[0m in \u001b[0;36m<module>\u001b[0;34m\u001b[0m\n\u001b[0;32m----> 1\u001b[0;31m \u001b[0max\u001b[0m \u001b[0;34m=\u001b[0m \u001b[0msns\u001b[0m\u001b[0;34m.\u001b[0m\u001b[0mcountplot\u001b[0m\u001b[0;34m(\u001b[0m\u001b[0mx\u001b[0m\u001b[0;34m=\u001b[0m\u001b[0;34m'accuracy_group'\u001b[0m\u001b[0;34m,\u001b[0m \u001b[0mdata\u001b[0m\u001b[0;34m=\u001b[0m\u001b[0mlabels\u001b[0m\u001b[0;34m)\u001b[0m\u001b[0;34m;\u001b[0m\u001b[0;34m\u001b[0m\u001b[0m\n\u001b[0m\u001b[1;32m      2\u001b[0m \u001b[0mautolabel\u001b[0m\u001b[0;34m(\u001b[0m\u001b[0mlabels\u001b[0m\u001b[0;34m.\u001b[0m\u001b[0maccuracy_group\u001b[0m\u001b[0;34m.\u001b[0m\u001b[0mvalue_counts\u001b[0m\u001b[0;34m(\u001b[0m\u001b[0;34m)\u001b[0m\u001b[0;34m/\u001b[0m\u001b[0mlabels\u001b[0m\u001b[0;34m.\u001b[0m\u001b[0mshape\u001b[0m\u001b[0;34m[\u001b[0m\u001b[0;36m0\u001b[0m\u001b[0;34m]\u001b[0m\u001b[0;34m*\u001b[0m\u001b[0;36m100\u001b[0m\u001b[0;34m,\u001b[0m \u001b[0max\u001b[0m\u001b[0;34m)\u001b[0m\u001b[0;34m\u001b[0m\u001b[0m\n",
      "\u001b[0;32m/opt/conda/lib/python3.6/site-packages/seaborn/categorical.py\u001b[0m in \u001b[0;36mcountplot\u001b[0;34m(x, y, hue, data, order, hue_order, orient, color, palette, saturation, dodge, ax, **kwargs)\u001b[0m\n\u001b[1;32m   3551\u001b[0m                           \u001b[0mestimator\u001b[0m\u001b[0;34m,\u001b[0m \u001b[0mci\u001b[0m\u001b[0;34m,\u001b[0m \u001b[0mn_boot\u001b[0m\u001b[0;34m,\u001b[0m \u001b[0munits\u001b[0m\u001b[0;34m,\u001b[0m\u001b[0;34m\u001b[0m\u001b[0m\n\u001b[1;32m   3552\u001b[0m                           \u001b[0morient\u001b[0m\u001b[0;34m,\u001b[0m \u001b[0mcolor\u001b[0m\u001b[0;34m,\u001b[0m \u001b[0mpalette\u001b[0m\u001b[0;34m,\u001b[0m \u001b[0msaturation\u001b[0m\u001b[0;34m,\u001b[0m\u001b[0;34m\u001b[0m\u001b[0m\n\u001b[0;32m-> 3553\u001b[0;31m                           errcolor, errwidth, capsize, dodge)\n\u001b[0m\u001b[1;32m   3554\u001b[0m \u001b[0;34m\u001b[0m\u001b[0m\n\u001b[1;32m   3555\u001b[0m     \u001b[0mplotter\u001b[0m\u001b[0;34m.\u001b[0m\u001b[0mvalue_label\u001b[0m \u001b[0;34m=\u001b[0m \u001b[0;34m\"count\"\u001b[0m\u001b[0;34m\u001b[0m\u001b[0m\n",
      "\u001b[0;32m/opt/conda/lib/python3.6/site-packages/seaborn/categorical.py\u001b[0m in \u001b[0;36m__init__\u001b[0;34m(self, x, y, hue, data, order, hue_order, estimator, ci, n_boot, units, orient, color, palette, saturation, errcolor, errwidth, capsize, dodge)\u001b[0m\n\u001b[1;32m   1605\u001b[0m         \u001b[0;34m\"\"\"Initialize the plotter.\"\"\"\u001b[0m\u001b[0;34m\u001b[0m\u001b[0m\n\u001b[1;32m   1606\u001b[0m         self.establish_variables(x, y, hue, data, orient,\n\u001b[0;32m-> 1607\u001b[0;31m                                  order, hue_order, units)\n\u001b[0m\u001b[1;32m   1608\u001b[0m         \u001b[0mself\u001b[0m\u001b[0;34m.\u001b[0m\u001b[0mestablish_colors\u001b[0m\u001b[0;34m(\u001b[0m\u001b[0mcolor\u001b[0m\u001b[0;34m,\u001b[0m \u001b[0mpalette\u001b[0m\u001b[0;34m,\u001b[0m \u001b[0msaturation\u001b[0m\u001b[0;34m)\u001b[0m\u001b[0;34m\u001b[0m\u001b[0m\n\u001b[1;32m   1609\u001b[0m         \u001b[0mself\u001b[0m\u001b[0;34m.\u001b[0m\u001b[0mestimate_statistic\u001b[0m\u001b[0;34m(\u001b[0m\u001b[0mestimator\u001b[0m\u001b[0;34m,\u001b[0m \u001b[0mci\u001b[0m\u001b[0;34m,\u001b[0m \u001b[0mn_boot\u001b[0m\u001b[0;34m)\u001b[0m\u001b[0;34m\u001b[0m\u001b[0m\n",
      "\u001b[0;32m/opt/conda/lib/python3.6/site-packages/seaborn/categorical.py\u001b[0m in \u001b[0;36mestablish_variables\u001b[0;34m(self, x, y, hue, data, orient, order, hue_order, units)\u001b[0m\n\u001b[1;32m    153\u001b[0m                 \u001b[0;32mif\u001b[0m \u001b[0misinstance\u001b[0m\u001b[0;34m(\u001b[0m\u001b[0minput\u001b[0m\u001b[0;34m,\u001b[0m \u001b[0mstring_types\u001b[0m\u001b[0;34m)\u001b[0m\u001b[0;34m:\u001b[0m\u001b[0;34m\u001b[0m\u001b[0m\n\u001b[1;32m    154\u001b[0m                     \u001b[0merr\u001b[0m \u001b[0;34m=\u001b[0m \u001b[0;34m\"Could not interpret input '{}'\"\u001b[0m\u001b[0;34m.\u001b[0m\u001b[0mformat\u001b[0m\u001b[0;34m(\u001b[0m\u001b[0minput\u001b[0m\u001b[0;34m)\u001b[0m\u001b[0;34m\u001b[0m\u001b[0m\n\u001b[0;32m--> 155\u001b[0;31m                     \u001b[0;32mraise\u001b[0m \u001b[0mValueError\u001b[0m\u001b[0;34m(\u001b[0m\u001b[0merr\u001b[0m\u001b[0;34m)\u001b[0m\u001b[0;34m\u001b[0m\u001b[0m\n\u001b[0m\u001b[1;32m    156\u001b[0m \u001b[0;34m\u001b[0m\u001b[0m\n\u001b[1;32m    157\u001b[0m             \u001b[0;31m# Figure out the plotting orientation\u001b[0m\u001b[0;34m\u001b[0m\u001b[0;34m\u001b[0m\u001b[0m\n",
      "\u001b[0;31mValueError\u001b[0m: Could not interpret input 'accuracy_group'"
     ]
    }
   ],
   "source": [
    "ax = sns.countplot(x='accuracy_group', data=labels);\n",
    "autolabel(labels.accuracy_group.value_counts()/labels.shape[0]*100, ax)"
   ]
  },
  {
   "cell_type": "markdown",
   "metadata": {},
   "source": [
    "# Features: title, type and world"
   ]
  },
  {
   "cell_type": "code",
   "execution_count": 29,
   "metadata": {},
   "outputs": [],
   "source": [
    "# temp.world = temp.world.astype('category')\n",
    "# print(temp.world.cat.categories)\n",
    "# temp.world = temp.world.cat.codes"
   ]
  },
  {
   "cell_type": "code",
   "execution_count": 30,
   "metadata": {},
   "outputs": [],
   "source": [
    "def df_na(df): return print(\"There aren't NaNs:\",  ~df.isna().all(axis=None))"
   ]
  },
  {
   "cell_type": "markdown",
   "metadata": {},
   "source": [
    "To compare inital train data with out labels, need to group inital data too"
   ]
  },
  {
   "cell_type": "code",
   "execution_count": 31,
   "metadata": {},
   "outputs": [],
   "source": [
    "df_group = df.groupby('game_session', as_index=False).agg({'world': lambda x: x.iloc[0],\n",
    "                                            'title': lambda x: x.iloc[0],\n",
    "                                            'type': lambda x: x.iloc[0]})"
   ]
  },
  {
   "cell_type": "markdown",
   "metadata": {},
   "source": [
    "Plot ditributions by categories for inital grouped data and labels_created data. Also for lables_created data plt distribution by accuracy_group"
   ]
  },
  {
   "cell_type": "code",
   "execution_count": 32,
   "metadata": {},
   "outputs": [
    {
     "data": {
      "image/png": "[encoded data removed]",
      "text/plain": [
       "<Figure size 1080x360 with 2 Axes>"
      ]
     },
     "metadata": {},
     "output_type": "display_data"
    },
    {
     "ename": "ValueError",
     "evalue": "Could not interpret input 'accuracy_group'",
     "output_type": "error",
     "traceback": [
      "\u001b[0;31m---------------------------------------------------------------------------\u001b[0m",
      "\u001b[0;31mValueError\u001b[0m                                Traceback (most recent call last)",
      "\u001b[0;32m<ipython-input-32-2b2f3b750d1b>\u001b[0m in \u001b[0;36m<module>\u001b[0;34m\u001b[0m\n\u001b[1;32m     14\u001b[0m \u001b[0mplt\u001b[0m\u001b[0;34m.\u001b[0m\u001b[0mshow\u001b[0m\u001b[0;34m(\u001b[0m\u001b[0;34m)\u001b[0m\u001b[0;34m\u001b[0m\u001b[0m\n\u001b[1;32m     15\u001b[0m \u001b[0;34m\u001b[0m\u001b[0m\n\u001b[0;32m---> 16\u001b[0;31m \u001b[0max\u001b[0m \u001b[0;34m=\u001b[0m \u001b[0msns\u001b[0m\u001b[0;34m.\u001b[0m\u001b[0mcountplot\u001b[0m\u001b[0;34m(\u001b[0m\u001b[0mx\u001b[0m\u001b[0;34m=\u001b[0m\u001b[0;34m'world'\u001b[0m\u001b[0;34m,\u001b[0m \u001b[0mdata\u001b[0m\u001b[0;34m=\u001b[0m\u001b[0mlabels\u001b[0m\u001b[0;34m,\u001b[0m \u001b[0mhue\u001b[0m\u001b[0;34m=\u001b[0m\u001b[0;34m'accuracy_group'\u001b[0m\u001b[0;34m,\u001b[0m \u001b[0morder\u001b[0m\u001b[0;34m=\u001b[0m\u001b[0morder\u001b[0m\u001b[0;34m)\u001b[0m\u001b[0;34m;\u001b[0m\u001b[0;34m\u001b[0m\u001b[0m\n\u001b[0m\u001b[1;32m     17\u001b[0m \u001b[0max\u001b[0m\u001b[0;34m.\u001b[0m\u001b[0mset_title\u001b[0m\u001b[0;34m(\u001b[0m\u001b[0;34m'Distribution of worlds LABELS'\u001b[0m\u001b[0;34m)\u001b[0m\u001b[0;34m;\u001b[0m\u001b[0;34m\u001b[0m\u001b[0m\n",
      "\u001b[0;32m/opt/conda/lib/python3.6/site-packages/seaborn/categorical.py\u001b[0m in \u001b[0;36mcountplot\u001b[0;34m(x, y, hue, data, order, hue_order, orient, color, palette, saturation, dodge, ax, **kwargs)\u001b[0m\n\u001b[1;32m   3551\u001b[0m                           \u001b[0mestimator\u001b[0m\u001b[0;34m,\u001b[0m \u001b[0mci\u001b[0m\u001b[0;34m,\u001b[0m \u001b[0mn_boot\u001b[0m\u001b[0;34m,\u001b[0m \u001b[0munits\u001b[0m\u001b[0;34m,\u001b[0m\u001b[0;34m\u001b[0m\u001b[0m\n\u001b[1;32m   3552\u001b[0m                           \u001b[0morient\u001b[0m\u001b[0;34m,\u001b[0m \u001b[0mcolor\u001b[0m\u001b[0;34m,\u001b[0m \u001b[0mpalette\u001b[0m\u001b[0;34m,\u001b[0m \u001b[0msaturation\u001b[0m\u001b[0;34m,\u001b[0m\u001b[0;34m\u001b[0m\u001b[0m\n\u001b[0;32m-> 3553\u001b[0;31m                           errcolor, errwidth, capsize, dodge)\n\u001b[0m\u001b[1;32m   3554\u001b[0m \u001b[0;34m\u001b[0m\u001b[0m\n\u001b[1;32m   3555\u001b[0m     \u001b[0mplotter\u001b[0m\u001b[0;34m.\u001b[0m\u001b[0mvalue_label\u001b[0m \u001b[0;34m=\u001b[0m \u001b[0;34m\"count\"\u001b[0m\u001b[0;34m\u001b[0m\u001b[0m\n",
      "\u001b[0;32m/opt/conda/lib/python3.6/site-packages/seaborn/categorical.py\u001b[0m in \u001b[0;36m__init__\u001b[0;34m(self, x, y, hue, data, order, hue_order, estimator, ci, n_boot, units, orient, color, palette, saturation, errcolor, errwidth, capsize, dodge)\u001b[0m\n\u001b[1;32m   1605\u001b[0m         \u001b[0;34m\"\"\"Initialize the plotter.\"\"\"\u001b[0m\u001b[0;34m\u001b[0m\u001b[0m\n\u001b[1;32m   1606\u001b[0m         self.establish_variables(x, y, hue, data, orient,\n\u001b[0;32m-> 1607\u001b[0;31m                                  order, hue_order, units)\n\u001b[0m\u001b[1;32m   1608\u001b[0m         \u001b[0mself\u001b[0m\u001b[0;34m.\u001b[0m\u001b[0mestablish_colors\u001b[0m\u001b[0;34m(\u001b[0m\u001b[0mcolor\u001b[0m\u001b[0;34m,\u001b[0m \u001b[0mpalette\u001b[0m\u001b[0;34m,\u001b[0m \u001b[0msaturation\u001b[0m\u001b[0;34m)\u001b[0m\u001b[0;34m\u001b[0m\u001b[0m\n\u001b[1;32m   1609\u001b[0m         \u001b[0mself\u001b[0m\u001b[0;34m.\u001b[0m\u001b[0mestimate_statistic\u001b[0m\u001b[0;34m(\u001b[0m\u001b[0mestimator\u001b[0m\u001b[0;34m,\u001b[0m \u001b[0mci\u001b[0m\u001b[0;34m,\u001b[0m \u001b[0mn_boot\u001b[0m\u001b[0;34m)\u001b[0m\u001b[0;34m\u001b[0m\u001b[0m\n",
      "\u001b[0;32m/opt/conda/lib/python3.6/site-packages/seaborn/categorical.py\u001b[0m in \u001b[0;36mestablish_variables\u001b[0;34m(self, x, y, hue, data, orient, order, hue_order, units)\u001b[0m\n\u001b[1;32m    153\u001b[0m                 \u001b[0;32mif\u001b[0m \u001b[0misinstance\u001b[0m\u001b[0;34m(\u001b[0m\u001b[0minput\u001b[0m\u001b[0;34m,\u001b[0m \u001b[0mstring_types\u001b[0m\u001b[0;34m)\u001b[0m\u001b[0;34m:\u001b[0m\u001b[0;34m\u001b[0m\u001b[0m\n\u001b[1;32m    154\u001b[0m                     \u001b[0merr\u001b[0m \u001b[0;34m=\u001b[0m \u001b[0;34m\"Could not interpret input '{}'\"\u001b[0m\u001b[0;34m.\u001b[0m\u001b[0mformat\u001b[0m\u001b[0;34m(\u001b[0m\u001b[0minput\u001b[0m\u001b[0;34m)\u001b[0m\u001b[0;34m\u001b[0m\u001b[0m\n\u001b[0;32m--> 155\u001b[0;31m                     \u001b[0;32mraise\u001b[0m \u001b[0mValueError\u001b[0m\u001b[0;34m(\u001b[0m\u001b[0merr\u001b[0m\u001b[0;34m)\u001b[0m\u001b[0;34m\u001b[0m\u001b[0m\n\u001b[0m\u001b[1;32m    156\u001b[0m \u001b[0;34m\u001b[0m\u001b[0m\n\u001b[1;32m    157\u001b[0m             \u001b[0;31m# Figure out the plotting orientation\u001b[0m\u001b[0;34m\u001b[0m\u001b[0;34m\u001b[0m\u001b[0m\n",
      "\u001b[0;31mValueError\u001b[0m: Could not interpret input 'accuracy_group'"
     ]
    }
   ],
   "source": [
    "order = labels.world.unique()\n",
    "\n",
    "plt.figure(figsize=(15,5))\n",
    "plt.subplot(1,2,1)\n",
    "ax = sns.countplot(x='world', data=df_group , order=np.append(order, 'NONE'))\n",
    "ax.set_title('Distribution of INITIAL worlds DATA')\n",
    "autolabel(df_group.world.value_counts()/df_group.shape[0]*100, ax)\n",
    "\n",
    "plt.subplot(1,2,2)\n",
    "ax = sns.countplot(x='world', data=labels, order=order);\n",
    "ax.set_title('Distribution of worlds LABELS');\n",
    "autolabel(labels.world.value_counts()/labels.shape[0]*100, ax)\n",
    "\n",
    "plt.show()\n",
    "\n",
    "ax = sns.countplot(x='world', data=labels, hue='accuracy_group', order=order);\n",
    "ax.set_title('Distribution of worlds LABELS');"
   ]
  },
  {
   "cell_type": "code",
   "execution_count": 33,
   "metadata": {},
   "outputs": [
    {
     "data": {
      "image/png": "[encoded data removed]",
      "text/plain": [
       "<Figure size 1080x360 with 2 Axes>"
      ]
     },
     "metadata": {},
     "output_type": "display_data"
    },
    {
     "ename": "ValueError",
     "evalue": "Could not interpret input 'accuracy_group'",
     "output_type": "error",
     "traceback": [
      "\u001b[0;31m---------------------------------------------------------------------------\u001b[0m",
      "\u001b[0;31mValueError\u001b[0m                                Traceback (most recent call last)",
      "\u001b[0;32m<ipython-input-33-7dcdddc7ac11>\u001b[0m in \u001b[0;36m<module>\u001b[0;34m\u001b[0m\n\u001b[1;32m     17\u001b[0m \u001b[0mplt\u001b[0m\u001b[0;34m.\u001b[0m\u001b[0mshow\u001b[0m\u001b[0;34m(\u001b[0m\u001b[0;34m)\u001b[0m\u001b[0;34m\u001b[0m\u001b[0m\n\u001b[1;32m     18\u001b[0m \u001b[0;34m\u001b[0m\u001b[0m\n\u001b[0;32m---> 19\u001b[0;31m \u001b[0max\u001b[0m \u001b[0;34m=\u001b[0m \u001b[0msns\u001b[0m\u001b[0;34m.\u001b[0m\u001b[0mcountplot\u001b[0m\u001b[0;34m(\u001b[0m\u001b[0mx\u001b[0m\u001b[0;34m=\u001b[0m\u001b[0;34m'title'\u001b[0m\u001b[0;34m,\u001b[0m \u001b[0mdata\u001b[0m\u001b[0;34m=\u001b[0m\u001b[0mlabels\u001b[0m\u001b[0;34m,\u001b[0m \u001b[0mhue\u001b[0m\u001b[0;34m=\u001b[0m\u001b[0;34m'accuracy_group'\u001b[0m\u001b[0;34m,\u001b[0m \u001b[0morder\u001b[0m\u001b[0;34m=\u001b[0m\u001b[0morder\u001b[0m\u001b[0;34m)\u001b[0m\u001b[0;34m;\u001b[0m\u001b[0;34m\u001b[0m\u001b[0m\n\u001b[0m\u001b[1;32m     20\u001b[0m \u001b[0max\u001b[0m\u001b[0;34m.\u001b[0m\u001b[0mset_title\u001b[0m\u001b[0;34m(\u001b[0m\u001b[0;34m'Distribution of titels LABELS'\u001b[0m\u001b[0;34m)\u001b[0m\u001b[0;34m;\u001b[0m\u001b[0;34m\u001b[0m\u001b[0m\n\u001b[1;32m     21\u001b[0m \u001b[0max\u001b[0m\u001b[0;34m.\u001b[0m\u001b[0mset_xticklabels\u001b[0m\u001b[0;34m(\u001b[0m\u001b[0;34m[\u001b[0m\u001b[0;34m'1'\u001b[0m\u001b[0;34m,\u001b[0m\u001b[0;34m'2'\u001b[0m\u001b[0;34m,\u001b[0m\u001b[0;34m'3'\u001b[0m\u001b[0;34m,\u001b[0m\u001b[0;34m'4'\u001b[0m\u001b[0;34m,\u001b[0m\u001b[0;34m'5'\u001b[0m\u001b[0;34m]\u001b[0m\u001b[0;34m)\u001b[0m\u001b[0;34m;\u001b[0m\u001b[0;34m\u001b[0m\u001b[0m\n",
      "\u001b[0;32m/opt/conda/lib/python3.6/site-packages/seaborn/categorical.py\u001b[0m in \u001b[0;36mcountplot\u001b[0;34m(x, y, hue, data, order, hue_order, orient, color, palette, saturation, dodge, ax, **kwargs)\u001b[0m\n\u001b[1;32m   3551\u001b[0m                           \u001b[0mestimator\u001b[0m\u001b[0;34m,\u001b[0m \u001b[0mci\u001b[0m\u001b[0;34m,\u001b[0m \u001b[0mn_boot\u001b[0m\u001b[0;34m,\u001b[0m \u001b[0munits\u001b[0m\u001b[0;34m,\u001b[0m\u001b[0;34m\u001b[0m\u001b[0m\n\u001b[1;32m   3552\u001b[0m                           \u001b[0morient\u001b[0m\u001b[0;34m,\u001b[0m \u001b[0mcolor\u001b[0m\u001b[0;34m,\u001b[0m \u001b[0mpalette\u001b[0m\u001b[0;34m,\u001b[0m \u001b[0msaturation\u001b[0m\u001b[0;34m,\u001b[0m\u001b[0;34m\u001b[0m\u001b[0m\n\u001b[0;32m-> 3553\u001b[0;31m                           errcolor, errwidth, capsize, dodge)\n\u001b[0m\u001b[1;32m   3554\u001b[0m \u001b[0;34m\u001b[0m\u001b[0m\n\u001b[1;32m   3555\u001b[0m     \u001b[0mplotter\u001b[0m\u001b[0;34m.\u001b[0m\u001b[0mvalue_label\u001b[0m \u001b[0;34m=\u001b[0m \u001b[0;34m\"count\"\u001b[0m\u001b[0;34m\u001b[0m\u001b[0m\n",
      "\u001b[0;32m/opt/conda/lib/python3.6/site-packages/seaborn/categorical.py\u001b[0m in \u001b[0;36m__init__\u001b[0;34m(self, x, y, hue, data, order, hue_order, estimator, ci, n_boot, units, orient, color, palette, saturation, errcolor, errwidth, capsize, dodge)\u001b[0m\n\u001b[1;32m   1605\u001b[0m         \u001b[0;34m\"\"\"Initialize the plotter.\"\"\"\u001b[0m\u001b[0;34m\u001b[0m\u001b[0m\n\u001b[1;32m   1606\u001b[0m         self.establish_variables(x, y, hue, data, orient,\n\u001b[0;32m-> 1607\u001b[0;31m                                  order, hue_order, units)\n\u001b[0m\u001b[1;32m   1608\u001b[0m         \u001b[0mself\u001b[0m\u001b[0;34m.\u001b[0m\u001b[0mestablish_colors\u001b[0m\u001b[0;34m(\u001b[0m\u001b[0mcolor\u001b[0m\u001b[0;34m,\u001b[0m \u001b[0mpalette\u001b[0m\u001b[0;34m,\u001b[0m \u001b[0msaturation\u001b[0m\u001b[0;34m)\u001b[0m\u001b[0;34m\u001b[0m\u001b[0m\n\u001b[1;32m   1609\u001b[0m         \u001b[0mself\u001b[0m\u001b[0;34m.\u001b[0m\u001b[0mestimate_statistic\u001b[0m\u001b[0;34m(\u001b[0m\u001b[0mestimator\u001b[0m\u001b[0;34m,\u001b[0m \u001b[0mci\u001b[0m\u001b[0;34m,\u001b[0m \u001b[0mn_boot\u001b[0m\u001b[0;34m)\u001b[0m\u001b[0;34m\u001b[0m\u001b[0m\n",
      "\u001b[0;32m/opt/conda/lib/python3.6/site-packages/seaborn/categorical.py\u001b[0m in \u001b[0;36mestablish_variables\u001b[0;34m(self, x, y, hue, data, orient, order, hue_order, units)\u001b[0m\n\u001b[1;32m    153\u001b[0m                 \u001b[0;32mif\u001b[0m \u001b[0misinstance\u001b[0m\u001b[0;34m(\u001b[0m\u001b[0minput\u001b[0m\u001b[0;34m,\u001b[0m \u001b[0mstring_types\u001b[0m\u001b[0;34m)\u001b[0m\u001b[0;34m:\u001b[0m\u001b[0;34m\u001b[0m\u001b[0m\n\u001b[1;32m    154\u001b[0m                     \u001b[0merr\u001b[0m \u001b[0;34m=\u001b[0m \u001b[0;34m\"Could not interpret input '{}'\"\u001b[0m\u001b[0;34m.\u001b[0m\u001b[0mformat\u001b[0m\u001b[0;34m(\u001b[0m\u001b[0minput\u001b[0m\u001b[0;34m)\u001b[0m\u001b[0;34m\u001b[0m\u001b[0m\n\u001b[0;32m--> 155\u001b[0;31m                     \u001b[0;32mraise\u001b[0m \u001b[0mValueError\u001b[0m\u001b[0;34m(\u001b[0m\u001b[0merr\u001b[0m\u001b[0;34m)\u001b[0m\u001b[0;34m\u001b[0m\u001b[0m\n\u001b[0m\u001b[1;32m    156\u001b[0m \u001b[0;34m\u001b[0m\u001b[0m\n\u001b[1;32m    157\u001b[0m             \u001b[0;31m# Figure out the plotting orientation\u001b[0m\u001b[0;34m\u001b[0m\u001b[0;34m\u001b[0m\u001b[0m\n",
      "\u001b[0;31mValueError\u001b[0m: Could not interpret input 'accuracy_group'"
     ]
    }
   ],
   "source": [
    "order = labels.title.unique()\n",
    "leaved_cat = np.isin(df_group.title.unique(), order)\n",
    "leaved_cat = df_group.title.unique()[~leaved_cat]\n",
    "\n",
    "plt.figure(figsize=(15,5))\n",
    "plt.subplot(1,2,1)\n",
    "ax = sns.countplot(x='title', data=df_group , order=np.append(order, leaved_cat))\n",
    "ax.set_title('Distribution of INITIAL titles DATA')\n",
    "#autolabel(df.title.value_counts()/df.shape[0]*100, ax)\n",
    "\n",
    "plt.subplot(1,2,2)\n",
    "ax = sns.countplot(x='title', data=labels, order=order);\n",
    "ax.set_title('Distribution of titles LABELS');\n",
    "autolabel(labels.title.value_counts()/labels.shape[0]*100, ax)\n",
    "ax.set_xticklabels(['1','2','3','4','5'])\n",
    "\n",
    "plt.show()\n",
    "\n",
    "ax = sns.countplot(x='title', data=labels, hue='accuracy_group', order=order);\n",
    "ax.set_title('Distribution of titels LABELS');\n",
    "ax.set_xticklabels(['1','2','3','4','5']);\n",
    "print(order)"
   ]
  },
  {
   "cell_type": "markdown",
   "metadata": {},
   "source": [
    "**Note:** One can see for title 2 = 'Chest Sorter (Assessment)' most of samples have *accuracy_group* = 0 despire *accuracy_group* = 3 is majority class."
   ]
  },
  {
   "cell_type": "code",
   "execution_count": 34,
   "metadata": {},
   "outputs": [
    {
     "data": {
      "text/plain": [
       "{'title': [<function __main__.<listcomp>.<lambda>(x, y='Welcome to Lost Lagoon!')>,\n",
       "  <function __main__.<listcomp>.<lambda>(x, y='Magma Peak - Level 1')>,\n",
       "  <function __main__.<listcomp>.<lambda>(x, y='Magma Peak - Level 2')>,\n",
       "  <function __main__.<listcomp>.<lambda>(x, y='Crystal Caves - Level 1')>,\n",
       "  <function __main__.<listcomp>.<lambda>(x, y='Chow Time')>,\n",
       "  <function __main__.<listcomp>.<lambda>(x, y='Balancing Act')>,\n",
       "  <function __main__.<listcomp>.<lambda>(x, y='Crystal Caves - Level 2')>,\n",
       "  <function __main__.<listcomp>.<lambda>(x, y='Tree Top City - Level 1')>,\n",
       "  <function __main__.<listcomp>.<lambda>(x, y='All Star Sorting')>,\n",
       "  <function __main__.<listcomp>.<lambda>(x, y='Costume Box')>,\n",
       "  <function __main__.<listcomp>.<lambda>(x, y='Fireworks (Activity)')>,\n",
       "  <function __main__.<listcomp>.<lambda>(x, y='12 Monkeys')>,\n",
       "  <function __main__.<listcomp>.<lambda>(x, y='Lifting Heavy Things')>,\n",
       "  <function __main__.<listcomp>.<lambda>(x, y='Cart Balancer (Assessment)')>,\n",
       "  <function __main__.<listcomp>.<lambda>(x, y='Crystal Caves - Level 3')>,\n",
       "  <function __main__.<listcomp>.<lambda>(x, y='Egg Dropper (Activity)')>,\n",
       "  <function __main__.<listcomp>.<lambda>(x, y='Bug Measurer (Activity)')>,\n",
       "  <function __main__.<listcomp>.<lambda>(x, y='Sandcastle Builder (Activity)')>,\n",
       "  <function __main__.<listcomp>.<lambda>(x, y='Dino Dive')>,\n",
       "  <function __main__.<listcomp>.<lambda>(x, y='Cauldron Filler (Assessment)')>,\n",
       "  <function __main__.<listcomp>.<lambda>(x, y='Scrub-A-Dub')>,\n",
       "  <function __main__.<listcomp>.<lambda>(x, y='Watering Hole (Activity)')>,\n",
       "  <function __main__.<listcomp>.<lambda>(x, y='Dino Drink')>,\n",
       "  <function __main__.<listcomp>.<lambda>(x, y='Bubble Bath')>,\n",
       "  <function __main__.<listcomp>.<lambda>(x, y='Bottle Filler (Activity)')>,\n",
       "  <function __main__.<listcomp>.<lambda>(x, y='Chicken Balancer (Activity)')>,\n",
       "  <function __main__.<listcomp>.<lambda>(x, y='Honey Cake')>,\n",
       "  <function __main__.<listcomp>.<lambda>(x, y='Happy Camel')>,\n",
       "  <function __main__.<listcomp>.<lambda>(x, y='Leaf Leader')>,\n",
       "  <function __main__.<listcomp>.<lambda>(x, y='Heavy, Heavier, Heaviest')>,\n",
       "  <function __main__.<listcomp>.<lambda>(x, y='Pan Balance')>,\n",
       "  <function __main__.<listcomp>.<lambda>(x, y='Chest Sorter (Assessment)')>,\n",
       "  <function __main__.<listcomp>.<lambda>(x, y='Ordering Spheres')>,\n",
       "  <function __main__.<listcomp>.<lambda>(x, y='Tree Top City - Level 2')>,\n",
       "  <function __main__.<listcomp>.<lambda>(x, y='Flower Waterer (Activity)')>,\n",
       "  <function __main__.<listcomp>.<lambda>(x, y=\"Pirate's Tale\")>,\n",
       "  <function __main__.<listcomp>.<lambda>(x, y='Mushroom Sorter (Assessment)')>,\n",
       "  <function __main__.<listcomp>.<lambda>(x, y='Air Show')>,\n",
       "  <function __main__.<listcomp>.<lambda>(x, y='Treasure Map')>,\n",
       "  <function __main__.<listcomp>.<lambda>(x, y='Tree Top City - Level 3')>,\n",
       "  <function __main__.<listcomp>.<lambda>(x, y='Crystals Rule')>,\n",
       "  <function __main__.<listcomp>.<lambda>(x, y='Rulers')>,\n",
       "  <function __main__.<listcomp>.<lambda>(x, y='Bird Measurer (Assessment)')>,\n",
       "  <function __main__.<listcomp>.<lambda>(x, y='Slop Problem')>,\n",
       "  <function __main__.<lambda>(x)>],\n",
       " 'game_session': 'count',\n",
       " 'timestamp': <function __main__.<lambda>(x)>}"
      ]
     },
     "execution_count": 34,
     "metadata": {},
     "output_type": "execute_result"
    }
   ],
   "source": [
    "title_unique = labels.title.unique()\n",
    "\n",
    "# counters for each title_name\n",
    "counter_title = {'title': [lambda x,y=t: np.sum(x==y) for t in title_unique]}\n",
    "# last title name\n",
    "counter_title['title'].append(lambda x: x.iloc[-1])\n",
    "\n",
    "counter_title.update({'game_session':'count',\n",
    "                      'timestamp': lambda x: x.iloc[-1]})\n",
    "counter_title"
   ]
  },
  {
   "cell_type": "code",
   "execution_count": 35,
   "metadata": {},
   "outputs": [
    {
     "ename": "ValueError",
     "evalue": "Length mismatch: Expected axis has 48 elements, new values have 9 elements",
     "output_type": "error",
     "traceback": [
      "\u001b[0;31m---------------------------------------------------------------------------\u001b[0m",
      "\u001b[0;31mValueError\u001b[0m                                Traceback (most recent call last)",
      "\u001b[0;32m<ipython-input-35-c04006f5584e>\u001b[0m in \u001b[0;36m<module>\u001b[0;34m\u001b[0m\n\u001b[1;32m      3\u001b[0m \u001b[0mlabels_title\u001b[0m \u001b[0;34m=\u001b[0m \u001b[0mlabels\u001b[0m\u001b[0;34m.\u001b[0m\u001b[0msort_values\u001b[0m\u001b[0;34m(\u001b[0m\u001b[0mby\u001b[0m\u001b[0;34m=\u001b[0m\u001b[0;34m'timestamp'\u001b[0m\u001b[0;34m)\u001b[0m\u001b[0;34m.\u001b[0m\u001b[0mgroupby\u001b[0m\u001b[0;34m(\u001b[0m\u001b[0;34m'installation_id'\u001b[0m\u001b[0;34m,\u001b[0m \u001b[0mas_index\u001b[0m\u001b[0;34m=\u001b[0m\u001b[0;32mFalse\u001b[0m\u001b[0;34m)\u001b[0m\u001b[0;31m\\\u001b[0m\u001b[0;34m\u001b[0m\u001b[0m\n\u001b[1;32m      4\u001b[0m                      \u001b[0;34m.\u001b[0m\u001b[0magg\u001b[0m\u001b[0;34m(\u001b[0m\u001b[0mcounter_title\u001b[0m\u001b[0;34m)\u001b[0m\u001b[0;34m\u001b[0m\u001b[0m\n\u001b[0;32m----> 5\u001b[0;31m \u001b[0mlabels_title\u001b[0m\u001b[0;34m.\u001b[0m\u001b[0mcolumns\u001b[0m \u001b[0;34m=\u001b[0m \u001b[0mcolumns\u001b[0m\u001b[0;34m\u001b[0m\u001b[0m\n\u001b[0m\u001b[1;32m      6\u001b[0m \u001b[0;34m\u001b[0m\u001b[0m\n\u001b[1;32m      7\u001b[0m \u001b[0mlabels_title\u001b[0m\u001b[0;34m.\u001b[0m\u001b[0mhead\u001b[0m\u001b[0;34m(\u001b[0m\u001b[0;34m)\u001b[0m\u001b[0;34m\u001b[0m\u001b[0m\n",
      "\u001b[0;32m/opt/conda/lib/python3.6/site-packages/pandas/core/generic.py\u001b[0m in \u001b[0;36m__setattr__\u001b[0;34m(self, name, value)\u001b[0m\n\u001b[1;32m   5190\u001b[0m         \u001b[0;32mtry\u001b[0m\u001b[0;34m:\u001b[0m\u001b[0;34m\u001b[0m\u001b[0m\n\u001b[1;32m   5191\u001b[0m             \u001b[0mobject\u001b[0m\u001b[0;34m.\u001b[0m\u001b[0m__getattribute__\u001b[0m\u001b[0;34m(\u001b[0m\u001b[0mself\u001b[0m\u001b[0;34m,\u001b[0m \u001b[0mname\u001b[0m\u001b[0;34m)\u001b[0m\u001b[0;34m\u001b[0m\u001b[0m\n\u001b[0;32m-> 5192\u001b[0;31m             \u001b[0;32mreturn\u001b[0m \u001b[0mobject\u001b[0m\u001b[0;34m.\u001b[0m\u001b[0m__setattr__\u001b[0m\u001b[0;34m(\u001b[0m\u001b[0mself\u001b[0m\u001b[0;34m,\u001b[0m \u001b[0mname\u001b[0m\u001b[0;34m,\u001b[0m \u001b[0mvalue\u001b[0m\u001b[0;34m)\u001b[0m\u001b[0;34m\u001b[0m\u001b[0m\n\u001b[0m\u001b[1;32m   5193\u001b[0m         \u001b[0;32mexcept\u001b[0m \u001b[0mAttributeError\u001b[0m\u001b[0;34m:\u001b[0m\u001b[0;34m\u001b[0m\u001b[0m\n\u001b[1;32m   5194\u001b[0m             \u001b[0;32mpass\u001b[0m\u001b[0;34m\u001b[0m\u001b[0m\n",
      "\u001b[0;32mpandas/_libs/properties.pyx\u001b[0m in \u001b[0;36mpandas._libs.properties.AxisProperty.__set__\u001b[0;34m()\u001b[0m\n",
      "\u001b[0;32m/opt/conda/lib/python3.6/site-packages/pandas/core/generic.py\u001b[0m in \u001b[0;36m_set_axis\u001b[0;34m(self, axis, labels)\u001b[0m\n\u001b[1;32m    688\u001b[0m \u001b[0;34m\u001b[0m\u001b[0m\n\u001b[1;32m    689\u001b[0m     \u001b[0;32mdef\u001b[0m \u001b[0m_set_axis\u001b[0m\u001b[0;34m(\u001b[0m\u001b[0mself\u001b[0m\u001b[0;34m,\u001b[0m \u001b[0maxis\u001b[0m\u001b[0;34m,\u001b[0m \u001b[0mlabels\u001b[0m\u001b[0;34m)\u001b[0m\u001b[0;34m:\u001b[0m\u001b[0;34m\u001b[0m\u001b[0m\n\u001b[0;32m--> 690\u001b[0;31m         \u001b[0mself\u001b[0m\u001b[0;34m.\u001b[0m\u001b[0m_data\u001b[0m\u001b[0;34m.\u001b[0m\u001b[0mset_axis\u001b[0m\u001b[0;34m(\u001b[0m\u001b[0maxis\u001b[0m\u001b[0;34m,\u001b[0m \u001b[0mlabels\u001b[0m\u001b[0;34m)\u001b[0m\u001b[0;34m\u001b[0m\u001b[0m\n\u001b[0m\u001b[1;32m    691\u001b[0m         \u001b[0mself\u001b[0m\u001b[0;34m.\u001b[0m\u001b[0m_clear_item_cache\u001b[0m\u001b[0;34m(\u001b[0m\u001b[0;34m)\u001b[0m\u001b[0;34m\u001b[0m\u001b[0m\n\u001b[1;32m    692\u001b[0m \u001b[0;34m\u001b[0m\u001b[0m\n",
      "\u001b[0;32m/opt/conda/lib/python3.6/site-packages/pandas/core/internals/managers.py\u001b[0m in \u001b[0;36mset_axis\u001b[0;34m(self, axis, new_labels)\u001b[0m\n\u001b[1;32m    181\u001b[0m             raise ValueError(\n\u001b[1;32m    182\u001b[0m                 \u001b[0;34m\"Length mismatch: Expected axis has {old} elements, new \"\u001b[0m\u001b[0;34m\u001b[0m\u001b[0m\n\u001b[0;32m--> 183\u001b[0;31m                 \u001b[0;34m\"values have {new} elements\"\u001b[0m\u001b[0;34m.\u001b[0m\u001b[0mformat\u001b[0m\u001b[0;34m(\u001b[0m\u001b[0mold\u001b[0m\u001b[0;34m=\u001b[0m\u001b[0mold_len\u001b[0m\u001b[0;34m,\u001b[0m \u001b[0mnew\u001b[0m\u001b[0;34m=\u001b[0m\u001b[0mnew_len\u001b[0m\u001b[0;34m)\u001b[0m\u001b[0;34m\u001b[0m\u001b[0m\n\u001b[0m\u001b[1;32m    184\u001b[0m             )\n\u001b[1;32m    185\u001b[0m \u001b[0;34m\u001b[0m\u001b[0m\n",
      "\u001b[0;31mValueError\u001b[0m: Length mismatch: Expected axis has 48 elements, new values have 9 elements"
     ]
    }
   ],
   "source": [
    "columns = ['installation_id', 'title_MS', 'title_CS', 'title_BM', 'title_CB', 'title_CF', 'title_last',\n",
    "       'n_games', 'timestamp_last']\n",
    "labels_title = labels.sort_values(by='timestamp').groupby('installation_id', as_index=False)\\\n",
    "                     .agg(counter_title)\n",
    "labels_title.columns = columns\n",
    "\n",
    "labels_title.head()"
   ]
  },
  {
   "cell_type": "markdown",
   "metadata": {},
   "source": [
    "# Look closer on one user"
   ]
  },
  {
   "cell_type": "code",
   "execution_count": 36,
   "metadata": {},
   "outputs": [
    {
     "data": {
      "text/plain": [
       "'08987c08'"
      ]
     },
     "execution_count": 36,
     "metadata": {},
     "output_type": "execute_result"
    }
   ],
   "source": [
    "user_id = df_counter.installation_id.value_counts().idxmax()\n",
    "user_id"
   ]
  },
  {
   "cell_type": "code",
   "execution_count": 37,
   "metadata": {},
   "outputs": [
    {
     "data": {
      "text/plain": [
       "False"
      ]
     },
     "execution_count": 37,
     "metadata": {},
     "output_type": "execute_result"
    }
   ],
   "source": [
    "# check that user exists in labels\n",
    "labels[labels.installation_id == user_id].shape[0] != 0"
   ]
  },
  {
   "cell_type": "code",
   "execution_count": 38,
   "metadata": {},
   "outputs": [
    {
     "data": {
      "text/plain": [
       "(        event_id      game_session                 timestamp  \\\n",
       " 409058  27253bdc  5bc756debd97a313  2019-08-05T16:11:03.928Z   \n",
       " 409059  27253bdc  534ed88b7459e313  2019-08-05T16:12:29.447Z   \n",
       " 409060  27253bdc  bb1842c07b8e72da  2019-08-05T16:13:59.361Z   \n",
       " 409061  27253bdc  65fd8a3d84e9b26a  2019-08-05T16:15:45.628Z   \n",
       " 409062  27253bdc  e612b7bb56139114  2019-08-05T16:17:27.377Z   \n",
       " \n",
       "                                     event_data installation_id  event_count  \\\n",
       " 409058  {\"event_code\": 2000, \"event_count\": 1}        08987c08            1   \n",
       " 409059  {\"event_code\": 2000, \"event_count\": 1}        08987c08            1   \n",
       " 409060  {\"event_code\": 2000, \"event_count\": 1}        08987c08            1   \n",
       " 409061  {\"event_code\": 2000, \"event_count\": 1}        08987c08            1   \n",
       " 409062  {\"event_code\": 2000, \"event_count\": 1}        08987c08            1   \n",
       " \n",
       "         event_code  game_time                    title  type world  \n",
       " 409058        2000          0  Welcome to Lost Lagoon!  Clip  NONE  \n",
       " 409059        2000          0  Welcome to Lost Lagoon!  Clip  NONE  \n",
       " 409060        2000          0  Welcome to Lost Lagoon!  Clip  NONE  \n",
       " 409061        2000          0  Welcome to Lost Lagoon!  Clip  NONE  \n",
       " 409062        2000          0  Welcome to Lost Lagoon!  Clip  NONE  ,\n",
       " (11172, 11))"
      ]
     },
     "execution_count": 38,
     "metadata": {},
     "output_type": "execute_result"
    }
   ],
   "source": [
    "# find all information for user\n",
    "user = df[df.installation_id == user_id]\n",
    "user = user.sort_values(by='timestamp')\n",
    "user.head(), user.shape"
   ]
  },
  {
   "cell_type": "code",
   "execution_count": 39,
   "metadata": {},
   "outputs": [
    {
     "data": {
      "text/plain": [
       "event_id                        object\n",
       "game_session                    object\n",
       "timestamp          datetime64[ns, UTC]\n",
       "event_data                      object\n",
       "installation_id                 object\n",
       "event_count                      int16\n",
       "event_code                       int16\n",
       "game_time                        int32\n",
       "title                           object\n",
       "type                            object\n",
       "world                           object\n",
       "dtype: object"
      ]
     },
     "execution_count": 39,
     "metadata": {},
     "output_type": "execute_result"
    }
   ],
   "source": [
    "user['timestamp'] = pd.to_datetime(user['timestamp'])\n",
    "user.dtypes"
   ]
  },
  {
   "cell_type": "code",
   "execution_count": 40,
   "metadata": {},
   "outputs": [
    {
     "name": "stdout",
     "output_type": "stream",
     "text": [
      "2019-09-29 02:33:50.007000+00:00\n",
      "(11169, 11)\n"
     ]
    }
   ],
   "source": [
    "last_attempt = df_counter[df_counter.installation_id == user_id].iloc[-1]\n",
    "print(last_attempt.timestamp)\n",
    "\n",
    "user = user[user.timestamp <= last_attempt.timestamp]\n",
    "print(user.shape)"
   ]
  },
  {
   "cell_type": "code",
   "execution_count": 41,
   "metadata": {},
   "outputs": [
    {
     "data": {
      "text/html": [
       "<div>\n",
       "<style scoped>\n",
       "    .dataframe tbody tr th:only-of-type {\n",
       "        vertical-align: middle;\n",
       "    }\n",
       "\n",
       "    .dataframe tbody tr th {\n",
       "        vertical-align: top;\n",
       "    }\n",
       "\n",
       "    .dataframe thead th {\n",
       "        text-align: right;\n",
       "    }\n",
       "</style>\n",
       "<table border=\"1\" class=\"dataframe\">\n",
       "  <thead>\n",
       "    <tr style=\"text-align: right;\">\n",
       "      <th></th>\n",
       "      <th>event_id</th>\n",
       "      <th>game_session</th>\n",
       "      <th>timestamp</th>\n",
       "      <th>event_data</th>\n",
       "      <th>installation_id</th>\n",
       "      <th>event_count</th>\n",
       "      <th>event_code</th>\n",
       "      <th>game_time</th>\n",
       "      <th>title</th>\n",
       "      <th>type</th>\n",
       "      <th>world</th>\n",
       "    </tr>\n",
       "  </thead>\n",
       "  <tbody>\n",
       "    <tr>\n",
       "      <th>409058</th>\n",
       "      <td>27253bdc</td>\n",
       "      <td>5bc756debd97a313</td>\n",
       "      <td>2019-08-05 16:11:03.928000+00:00</td>\n",
       "      <td>{\"event_code\": 2000, \"event_count\": 1}</td>\n",
       "      <td>08987c08</td>\n",
       "      <td>1</td>\n",
       "      <td>2000</td>\n",
       "      <td>0</td>\n",
       "      <td>Welcome to Lost Lagoon!</td>\n",
       "      <td>Clip</td>\n",
       "      <td>NONE</td>\n",
       "    </tr>\n",
       "    <tr>\n",
       "      <th>409059</th>\n",
       "      <td>27253bdc</td>\n",
       "      <td>534ed88b7459e313</td>\n",
       "      <td>2019-08-05 16:12:29.447000+00:00</td>\n",
       "      <td>{\"event_code\": 2000, \"event_count\": 1}</td>\n",
       "      <td>08987c08</td>\n",
       "      <td>1</td>\n",
       "      <td>2000</td>\n",
       "      <td>0</td>\n",
       "      <td>Welcome to Lost Lagoon!</td>\n",
       "      <td>Clip</td>\n",
       "      <td>NONE</td>\n",
       "    </tr>\n",
       "    <tr>\n",
       "      <th>409060</th>\n",
       "      <td>27253bdc</td>\n",
       "      <td>bb1842c07b8e72da</td>\n",
       "      <td>2019-08-05 16:13:59.361000+00:00</td>\n",
       "      <td>{\"event_code\": 2000, \"event_count\": 1}</td>\n",
       "      <td>08987c08</td>\n",
       "      <td>1</td>\n",
       "      <td>2000</td>\n",
       "      <td>0</td>\n",
       "      <td>Welcome to Lost Lagoon!</td>\n",
       "      <td>Clip</td>\n",
       "      <td>NONE</td>\n",
       "    </tr>\n",
       "    <tr>\n",
       "      <th>409061</th>\n",
       "      <td>27253bdc</td>\n",
       "      <td>65fd8a3d84e9b26a</td>\n",
       "      <td>2019-08-05 16:15:45.628000+00:00</td>\n",
       "      <td>{\"event_code\": 2000, \"event_count\": 1}</td>\n",
       "      <td>08987c08</td>\n",
       "      <td>1</td>\n",
       "      <td>2000</td>\n",
       "      <td>0</td>\n",
       "      <td>Welcome to Lost Lagoon!</td>\n",
       "      <td>Clip</td>\n",
       "      <td>NONE</td>\n",
       "    </tr>\n",
       "    <tr>\n",
       "      <th>409062</th>\n",
       "      <td>27253bdc</td>\n",
       "      <td>e612b7bb56139114</td>\n",
       "      <td>2019-08-05 16:17:27.377000+00:00</td>\n",
       "      <td>{\"event_code\": 2000, \"event_count\": 1}</td>\n",
       "      <td>08987c08</td>\n",
       "      <td>1</td>\n",
       "      <td>2000</td>\n",
       "      <td>0</td>\n",
       "      <td>Welcome to Lost Lagoon!</td>\n",
       "      <td>Clip</td>\n",
       "      <td>NONE</td>\n",
       "    </tr>\n",
       "    <tr>\n",
       "      <th>...</th>\n",
       "      <td>...</td>\n",
       "      <td>...</td>\n",
       "      <td>...</td>\n",
       "      <td>...</td>\n",
       "      <td>...</td>\n",
       "      <td>...</td>\n",
       "      <td>...</td>\n",
       "      <td>...</td>\n",
       "      <td>...</td>\n",
       "      <td>...</td>\n",
       "      <td>...</td>\n",
       "    </tr>\n",
       "    <tr>\n",
       "      <th>420222</th>\n",
       "      <td>a8efe47b</td>\n",
       "      <td>f32d7e7f77862955</td>\n",
       "      <td>2019-09-29 02:33:46.505000+00:00</td>\n",
       "      <td>{\"weight\":1,\"pillars\":[2],\"coordinates\":{\"x\":8...</td>\n",
       "      <td>08987c08</td>\n",
       "      <td>19</td>\n",
       "      <td>4030</td>\n",
       "      <td>13466</td>\n",
       "      <td>Chest Sorter (Assessment)</td>\n",
       "      <td>Assessment</td>\n",
       "      <td>CRYSTALCAVES</td>\n",
       "    </tr>\n",
       "    <tr>\n",
       "      <th>420223</th>\n",
       "      <td>0db6d71d</td>\n",
       "      <td>f32d7e7f77862955</td>\n",
       "      <td>2019-09-29 02:33:47.640000+00:00</td>\n",
       "      <td>{\"weight\":1,\"destination\":\"Lightest\",\"coordina...</td>\n",
       "      <td>08987c08</td>\n",
       "      <td>20</td>\n",
       "      <td>4020</td>\n",
       "      <td>14617</td>\n",
       "      <td>Chest Sorter (Assessment)</td>\n",
       "      <td>Assessment</td>\n",
       "      <td>CRYSTALCAVES</td>\n",
       "    </tr>\n",
       "    <tr>\n",
       "      <th>420224</th>\n",
       "      <td>a8efe47b</td>\n",
       "      <td>f32d7e7f77862955</td>\n",
       "      <td>2019-09-29 02:33:48.424000+00:00</td>\n",
       "      <td>{\"weight\":3,\"pillars\":[1,2],\"coordinates\":{\"x\"...</td>\n",
       "      <td>08987c08</td>\n",
       "      <td>21</td>\n",
       "      <td>4030</td>\n",
       "      <td>15383</td>\n",
       "      <td>Chest Sorter (Assessment)</td>\n",
       "      <td>Assessment</td>\n",
       "      <td>CRYSTALCAVES</td>\n",
       "    </tr>\n",
       "    <tr>\n",
       "      <th>420225</th>\n",
       "      <td>0db6d71d</td>\n",
       "      <td>f32d7e7f77862955</td>\n",
       "      <td>2019-09-29 02:33:48.757000+00:00</td>\n",
       "      <td>{\"weight\":3,\"destination\":\"Heavy\",\"coordinates...</td>\n",
       "      <td>08987c08</td>\n",
       "      <td>22</td>\n",
       "      <td>4020</td>\n",
       "      <td>15733</td>\n",
       "      <td>Chest Sorter (Assessment)</td>\n",
       "      <td>Assessment</td>\n",
       "      <td>CRYSTALCAVES</td>\n",
       "    </tr>\n",
       "    <tr>\n",
       "      <th>420226</th>\n",
       "      <td>93b353f2</td>\n",
       "      <td>f32d7e7f77862955</td>\n",
       "      <td>2019-09-29 02:33:50.007000+00:00</td>\n",
       "      <td>{\"correct\":false,\"pillars\":[1,3,2],\"event_coun...</td>\n",
       "      <td>08987c08</td>\n",
       "      <td>23</td>\n",
       "      <td>4100</td>\n",
       "      <td>16967</td>\n",
       "      <td>Chest Sorter (Assessment)</td>\n",
       "      <td>Assessment</td>\n",
       "      <td>CRYSTALCAVES</td>\n",
       "    </tr>\n",
       "  </tbody>\n",
       "</table>\n",
       "<p>11169 rows × 11 columns</p>\n",
       "</div>"
      ],
      "text/plain": [
       "        event_id      game_session                        timestamp  \\\n",
       "409058  27253bdc  5bc756debd97a313 2019-08-05 16:11:03.928000+00:00   \n",
       "409059  27253bdc  534ed88b7459e313 2019-08-05 16:12:29.447000+00:00   \n",
       "409060  27253bdc  bb1842c07b8e72da 2019-08-05 16:13:59.361000+00:00   \n",
       "409061  27253bdc  65fd8a3d84e9b26a 2019-08-05 16:15:45.628000+00:00   \n",
       "409062  27253bdc  e612b7bb56139114 2019-08-05 16:17:27.377000+00:00   \n",
       "...          ...               ...                              ...   \n",
       "420222  a8efe47b  f32d7e7f77862955 2019-09-29 02:33:46.505000+00:00   \n",
       "420223  0db6d71d  f32d7e7f77862955 2019-09-29 02:33:47.640000+00:00   \n",
       "420224  a8efe47b  f32d7e7f77862955 2019-09-29 02:33:48.424000+00:00   \n",
       "420225  0db6d71d  f32d7e7f77862955 2019-09-29 02:33:48.757000+00:00   \n",
       "420226  93b353f2  f32d7e7f77862955 2019-09-29 02:33:50.007000+00:00   \n",
       "\n",
       "                                               event_data installation_id  \\\n",
       "409058             {\"event_code\": 2000, \"event_count\": 1}        08987c08   \n",
       "409059             {\"event_code\": 2000, \"event_count\": 1}        08987c08   \n",
       "409060             {\"event_code\": 2000, \"event_count\": 1}        08987c08   \n",
       "409061             {\"event_code\": 2000, \"event_count\": 1}        08987c08   \n",
       "409062             {\"event_code\": 2000, \"event_count\": 1}        08987c08   \n",
       "...                                                   ...             ...   \n",
       "420222  {\"weight\":1,\"pillars\":[2],\"coordinates\":{\"x\":8...        08987c08   \n",
       "420223  {\"weight\":1,\"destination\":\"Lightest\",\"coordina...        08987c08   \n",
       "420224  {\"weight\":3,\"pillars\":[1,2],\"coordinates\":{\"x\"...        08987c08   \n",
       "420225  {\"weight\":3,\"destination\":\"Heavy\",\"coordinates...        08987c08   \n",
       "420226  {\"correct\":false,\"pillars\":[1,3,2],\"event_coun...        08987c08   \n",
       "\n",
       "        event_count  event_code  game_time                      title  \\\n",
       "409058            1        2000          0    Welcome to Lost Lagoon!   \n",
       "409059            1        2000          0    Welcome to Lost Lagoon!   \n",
       "409060            1        2000          0    Welcome to Lost Lagoon!   \n",
       "409061            1        2000          0    Welcome to Lost Lagoon!   \n",
       "409062            1        2000          0    Welcome to Lost Lagoon!   \n",
       "...             ...         ...        ...                        ...   \n",
       "420222           19        4030      13466  Chest Sorter (Assessment)   \n",
       "420223           20        4020      14617  Chest Sorter (Assessment)   \n",
       "420224           21        4030      15383  Chest Sorter (Assessment)   \n",
       "420225           22        4020      15733  Chest Sorter (Assessment)   \n",
       "420226           23        4100      16967  Chest Sorter (Assessment)   \n",
       "\n",
       "              type         world  \n",
       "409058        Clip          NONE  \n",
       "409059        Clip          NONE  \n",
       "409060        Clip          NONE  \n",
       "409061        Clip          NONE  \n",
       "409062        Clip          NONE  \n",
       "...            ...           ...  \n",
       "420222  Assessment  CRYSTALCAVES  \n",
       "420223  Assessment  CRYSTALCAVES  \n",
       "420224  Assessment  CRYSTALCAVES  \n",
       "420225  Assessment  CRYSTALCAVES  \n",
       "420226  Assessment  CRYSTALCAVES  \n",
       "\n",
       "[11169 rows x 11 columns]"
      ]
     },
     "execution_count": 41,
     "metadata": {},
     "output_type": "execute_result"
    }
   ],
   "source": [
    "user"
   ]
  },
  {
   "cell_type": "code",
   "execution_count": null,
   "metadata": {},
   "outputs": [],
   "source": []
  }
 ],
 "metadata": {
  "kernelspec": {
   "display_name": "Python 3",
   "language": "python",
   "name": "python3"
  },
  "language_info": {
   "codemirror_mode": {
    "name": "ipython",
    "version": 3
   },
   "file_extension": ".py",
   "mimetype": "text/x-python",
   "name": "python",
   "nbconvert_exporter": "python",
   "pygments_lexer": "ipython3",
   "version": "3.6.6"
  }
 },
 "nbformat": 4,
 "nbformat_minor": 1
}
